{
 "cells": [
  {
   "cell_type": "code",
   "execution_count": 2,
   "metadata": {
    "execution": {
     "iopub.execute_input": "2023-05-08T10:10:05.959085Z",
     "iopub.status.busy": "2023-05-08T10:10:05.958075Z",
     "iopub.status.idle": "2023-05-08T10:10:07.238822Z",
     "shell.execute_reply": "2023-05-08T10:10:07.237366Z"
    },
    "papermill": {
     "duration": 1.310505,
     "end_time": "2023-05-08T10:10:07.241899",
     "exception": false,
     "start_time": "2023-05-08T10:10:05.931394",
     "status": "completed"
    },
    "tags": []
   },
   "outputs": [],
   "source": [
    "import numpy as np\n",
    "import pandas as pd\n",
    "import matplotlib.pyplot as plt\n",
    "import seaborn as sns\n",
    "import missingno as msno"
   ]
  },
  {
   "cell_type": "code",
   "execution_count": 3,
   "metadata": {
    "execution": {
     "iopub.execute_input": "2023-05-08T10:10:07.345671Z",
     "iopub.status.busy": "2023-05-08T10:10:07.345256Z",
     "iopub.status.idle": "2023-05-08T10:10:07.393680Z",
     "shell.execute_reply": "2023-05-08T10:10:07.392019Z"
    },
    "papermill": {
     "duration": 0.07808,
     "end_time": "2023-05-08T10:10:07.396468",
     "exception": false,
     "start_time": "2023-05-08T10:10:07.318388",
     "status": "completed"
    },
    "tags": []
   },
   "outputs": [
    {
     "data": {
      "text/html": [
       "<div>\n",
       "<style scoped>\n",
       "    .dataframe tbody tr th:only-of-type {\n",
       "        vertical-align: middle;\n",
       "    }\n",
       "\n",
       "    .dataframe tbody tr th {\n",
       "        vertical-align: top;\n",
       "    }\n",
       "\n",
       "    .dataframe thead th {\n",
       "        text-align: right;\n",
       "    }\n",
       "</style>\n",
       "<table border=\"1\" class=\"dataframe\">\n",
       "  <thead>\n",
       "    <tr style=\"text-align: right;\">\n",
       "      <th></th>\n",
       "      <th>PassengerId</th>\n",
       "      <th>Survived</th>\n",
       "      <th>Pclass</th>\n",
       "      <th>Name</th>\n",
       "      <th>Sex</th>\n",
       "      <th>Age</th>\n",
       "      <th>SibSp</th>\n",
       "      <th>Parch</th>\n",
       "      <th>Ticket</th>\n",
       "      <th>Fare</th>\n",
       "      <th>Cabin</th>\n",
       "      <th>Embarked</th>\n",
       "    </tr>\n",
       "  </thead>\n",
       "  <tbody>\n",
       "    <tr>\n",
       "      <th>0</th>\n",
       "      <td>1</td>\n",
       "      <td>0</td>\n",
       "      <td>3</td>\n",
       "      <td>Braund, Mr. Owen Harris</td>\n",
       "      <td>male</td>\n",
       "      <td>22.0</td>\n",
       "      <td>1</td>\n",
       "      <td>0</td>\n",
       "      <td>A/5 21171</td>\n",
       "      <td>7.2500</td>\n",
       "      <td>NaN</td>\n",
       "      <td>S</td>\n",
       "    </tr>\n",
       "    <tr>\n",
       "      <th>1</th>\n",
       "      <td>2</td>\n",
       "      <td>1</td>\n",
       "      <td>1</td>\n",
       "      <td>Cumings, Mrs. John Bradley (Florence Briggs Th...</td>\n",
       "      <td>female</td>\n",
       "      <td>38.0</td>\n",
       "      <td>1</td>\n",
       "      <td>0</td>\n",
       "      <td>PC 17599</td>\n",
       "      <td>71.2833</td>\n",
       "      <td>C85</td>\n",
       "      <td>C</td>\n",
       "    </tr>\n",
       "    <tr>\n",
       "      <th>2</th>\n",
       "      <td>3</td>\n",
       "      <td>1</td>\n",
       "      <td>3</td>\n",
       "      <td>Heikkinen, Miss. Laina</td>\n",
       "      <td>female</td>\n",
       "      <td>26.0</td>\n",
       "      <td>0</td>\n",
       "      <td>0</td>\n",
       "      <td>STON/O2. 3101282</td>\n",
       "      <td>7.9250</td>\n",
       "      <td>NaN</td>\n",
       "      <td>S</td>\n",
       "    </tr>\n",
       "    <tr>\n",
       "      <th>3</th>\n",
       "      <td>4</td>\n",
       "      <td>1</td>\n",
       "      <td>1</td>\n",
       "      <td>Futrelle, Mrs. Jacques Heath (Lily May Peel)</td>\n",
       "      <td>female</td>\n",
       "      <td>35.0</td>\n",
       "      <td>1</td>\n",
       "      <td>0</td>\n",
       "      <td>113803</td>\n",
       "      <td>53.1000</td>\n",
       "      <td>C123</td>\n",
       "      <td>S</td>\n",
       "    </tr>\n",
       "    <tr>\n",
       "      <th>4</th>\n",
       "      <td>5</td>\n",
       "      <td>0</td>\n",
       "      <td>3</td>\n",
       "      <td>Allen, Mr. William Henry</td>\n",
       "      <td>male</td>\n",
       "      <td>35.0</td>\n",
       "      <td>0</td>\n",
       "      <td>0</td>\n",
       "      <td>373450</td>\n",
       "      <td>8.0500</td>\n",
       "      <td>NaN</td>\n",
       "      <td>S</td>\n",
       "    </tr>\n",
       "  </tbody>\n",
       "</table>\n",
       "</div>"
      ],
      "text/plain": [
       "   PassengerId  Survived  Pclass  \\\n",
       "0            1         0       3   \n",
       "1            2         1       1   \n",
       "2            3         1       3   \n",
       "3            4         1       1   \n",
       "4            5         0       3   \n",
       "\n",
       "                                                Name     Sex   Age  SibSp  \\\n",
       "0                            Braund, Mr. Owen Harris    male  22.0      1   \n",
       "1  Cumings, Mrs. John Bradley (Florence Briggs Th...  female  38.0      1   \n",
       "2                             Heikkinen, Miss. Laina  female  26.0      0   \n",
       "3       Futrelle, Mrs. Jacques Heath (Lily May Peel)  female  35.0      1   \n",
       "4                           Allen, Mr. William Henry    male  35.0      0   \n",
       "\n",
       "   Parch            Ticket     Fare Cabin Embarked  \n",
       "0      0         A/5 21171   7.2500   NaN        S  \n",
       "1      0          PC 17599  71.2833   C85        C  \n",
       "2      0  STON/O2. 3101282   7.9250   NaN        S  \n",
       "3      0            113803  53.1000  C123        S  \n",
       "4      0            373450   8.0500   NaN        S  "
      ]
     },
     "execution_count": 3,
     "metadata": {},
     "output_type": "execute_result"
    }
   ],
   "source": [
    "train_data = pd.read_csv('titanic/train.csv')\n",
    "train_data.head()"
   ]
  },
  {
   "cell_type": "code",
   "execution_count": 4,
   "metadata": {
    "execution": {
     "iopub.execute_input": "2023-05-08T10:10:07.447295Z",
     "iopub.status.busy": "2023-05-08T10:10:07.446773Z",
     "iopub.status.idle": "2023-05-08T10:10:07.472097Z",
     "shell.execute_reply": "2023-05-08T10:10:07.469950Z"
    },
    "papermill": {
     "duration": 0.05395,
     "end_time": "2023-05-08T10:10:07.474953",
     "exception": false,
     "start_time": "2023-05-08T10:10:07.421003",
     "status": "completed"
    },
    "tags": []
   },
   "outputs": [
    {
     "data": {
      "text/html": [
       "<div>\n",
       "<style scoped>\n",
       "    .dataframe tbody tr th:only-of-type {\n",
       "        vertical-align: middle;\n",
       "    }\n",
       "\n",
       "    .dataframe tbody tr th {\n",
       "        vertical-align: top;\n",
       "    }\n",
       "\n",
       "    .dataframe thead th {\n",
       "        text-align: right;\n",
       "    }\n",
       "</style>\n",
       "<table border=\"1\" class=\"dataframe\">\n",
       "  <thead>\n",
       "    <tr style=\"text-align: right;\">\n",
       "      <th></th>\n",
       "      <th>PassengerId</th>\n",
       "      <th>Pclass</th>\n",
       "      <th>Name</th>\n",
       "      <th>Sex</th>\n",
       "      <th>Age</th>\n",
       "      <th>SibSp</th>\n",
       "      <th>Parch</th>\n",
       "      <th>Ticket</th>\n",
       "      <th>Fare</th>\n",
       "      <th>Cabin</th>\n",
       "      <th>Embarked</th>\n",
       "    </tr>\n",
       "  </thead>\n",
       "  <tbody>\n",
       "    <tr>\n",
       "      <th>0</th>\n",
       "      <td>892</td>\n",
       "      <td>3</td>\n",
       "      <td>Kelly, Mr. James</td>\n",
       "      <td>male</td>\n",
       "      <td>34.5</td>\n",
       "      <td>0</td>\n",
       "      <td>0</td>\n",
       "      <td>330911</td>\n",
       "      <td>7.8292</td>\n",
       "      <td>NaN</td>\n",
       "      <td>Q</td>\n",
       "    </tr>\n",
       "    <tr>\n",
       "      <th>1</th>\n",
       "      <td>893</td>\n",
       "      <td>3</td>\n",
       "      <td>Wilkes, Mrs. James (Ellen Needs)</td>\n",
       "      <td>female</td>\n",
       "      <td>47.0</td>\n",
       "      <td>1</td>\n",
       "      <td>0</td>\n",
       "      <td>363272</td>\n",
       "      <td>7.0000</td>\n",
       "      <td>NaN</td>\n",
       "      <td>S</td>\n",
       "    </tr>\n",
       "    <tr>\n",
       "      <th>2</th>\n",
       "      <td>894</td>\n",
       "      <td>2</td>\n",
       "      <td>Myles, Mr. Thomas Francis</td>\n",
       "      <td>male</td>\n",
       "      <td>62.0</td>\n",
       "      <td>0</td>\n",
       "      <td>0</td>\n",
       "      <td>240276</td>\n",
       "      <td>9.6875</td>\n",
       "      <td>NaN</td>\n",
       "      <td>Q</td>\n",
       "    </tr>\n",
       "    <tr>\n",
       "      <th>3</th>\n",
       "      <td>895</td>\n",
       "      <td>3</td>\n",
       "      <td>Wirz, Mr. Albert</td>\n",
       "      <td>male</td>\n",
       "      <td>27.0</td>\n",
       "      <td>0</td>\n",
       "      <td>0</td>\n",
       "      <td>315154</td>\n",
       "      <td>8.6625</td>\n",
       "      <td>NaN</td>\n",
       "      <td>S</td>\n",
       "    </tr>\n",
       "    <tr>\n",
       "      <th>4</th>\n",
       "      <td>896</td>\n",
       "      <td>3</td>\n",
       "      <td>Hirvonen, Mrs. Alexander (Helga E Lindqvist)</td>\n",
       "      <td>female</td>\n",
       "      <td>22.0</td>\n",
       "      <td>1</td>\n",
       "      <td>1</td>\n",
       "      <td>3101298</td>\n",
       "      <td>12.2875</td>\n",
       "      <td>NaN</td>\n",
       "      <td>S</td>\n",
       "    </tr>\n",
       "  </tbody>\n",
       "</table>\n",
       "</div>"
      ],
      "text/plain": [
       "   PassengerId  Pclass                                          Name     Sex  \\\n",
       "0          892       3                              Kelly, Mr. James    male   \n",
       "1          893       3              Wilkes, Mrs. James (Ellen Needs)  female   \n",
       "2          894       2                     Myles, Mr. Thomas Francis    male   \n",
       "3          895       3                              Wirz, Mr. Albert    male   \n",
       "4          896       3  Hirvonen, Mrs. Alexander (Helga E Lindqvist)  female   \n",
       "\n",
       "    Age  SibSp  Parch   Ticket     Fare Cabin Embarked  \n",
       "0  34.5      0      0   330911   7.8292   NaN        Q  \n",
       "1  47.0      1      0   363272   7.0000   NaN        S  \n",
       "2  62.0      0      0   240276   9.6875   NaN        Q  \n",
       "3  27.0      0      0   315154   8.6625   NaN        S  \n",
       "4  22.0      1      1  3101298  12.2875   NaN        S  "
      ]
     },
     "execution_count": 4,
     "metadata": {},
     "output_type": "execute_result"
    }
   ],
   "source": [
    "test_data = pd.read_csv('titanic/test.csv')\n",
    "test_data.head()"
   ]
  },
  {
   "cell_type": "code",
   "execution_count": 5,
   "metadata": {
    "execution": {
     "iopub.execute_input": "2023-05-08T10:10:07.583637Z",
     "iopub.status.busy": "2023-05-08T10:10:07.582359Z",
     "iopub.status.idle": "2023-05-08T10:10:07.598582Z",
     "shell.execute_reply": "2023-05-08T10:10:07.597510Z"
    },
    "papermill": {
     "duration": 0.046717,
     "end_time": "2023-05-08T10:10:07.601515",
     "exception": false,
     "start_time": "2023-05-08T10:10:07.554798",
     "status": "completed"
    },
    "tags": []
   },
   "outputs": [],
   "source": [
    "test_drop_id = test_data.pop('PassengerId') #drop passangerId from test_data and assign it to a variable for later.\n",
    "df = train_data.drop(['Survived', 'PassengerId'], axis=1) # drop the 'Survived', 'PassengerId' columns from train_data.\n",
    "df = pd.concat([df, test_data], axis=0).reset_index(drop=True) #join the two dataframes so we can work with training and testing data at the same time"
   ]
  },
  {
   "cell_type": "code",
   "execution_count": 6,
   "metadata": {
    "execution": {
     "iopub.execute_input": "2023-05-08T10:10:07.656315Z",
     "iopub.status.busy": "2023-05-08T10:10:07.655544Z",
     "iopub.status.idle": "2023-05-08T10:10:07.662333Z",
     "shell.execute_reply": "2023-05-08T10:10:07.661478Z"
    },
    "papermill": {
     "duration": 0.035786,
     "end_time": "2023-05-08T10:10:07.664776",
     "exception": false,
     "start_time": "2023-05-08T10:10:07.628990",
     "status": "completed"
    },
    "tags": []
   },
   "outputs": [
    {
     "data": {
      "text/plain": [
       "891"
      ]
     },
     "execution_count": 6,
     "metadata": {},
     "output_type": "execute_result"
    }
   ],
   "source": [
    "train_max = train_data.shape[0] #This will help us divide the dataframe back into training and testing sets later.\n",
    "train_max"
   ]
  },
  {
   "cell_type": "code",
   "execution_count": 7,
   "metadata": {
    "execution": {
     "iopub.execute_input": "2023-05-08T10:10:07.717739Z",
     "iopub.status.busy": "2023-05-08T10:10:07.716459Z",
     "iopub.status.idle": "2023-05-08T10:10:07.737884Z",
     "shell.execute_reply": "2023-05-08T10:10:07.736389Z"
    },
    "papermill": {
     "duration": 0.05136,
     "end_time": "2023-05-08T10:10:07.741159",
     "exception": false,
     "start_time": "2023-05-08T10:10:07.689799",
     "status": "completed"
    },
    "tags": []
   },
   "outputs": [
    {
     "name": "stdout",
     "output_type": "stream",
     "text": [
      "<class 'pandas.core.frame.DataFrame'>\n",
      "RangeIndex: 1309 entries, 0 to 1308\n",
      "Data columns (total 10 columns):\n",
      " #   Column    Non-Null Count  Dtype  \n",
      "---  ------    --------------  -----  \n",
      " 0   Pclass    1309 non-null   int64  \n",
      " 1   Name      1309 non-null   object \n",
      " 2   Sex       1309 non-null   object \n",
      " 3   Age       1046 non-null   float64\n",
      " 4   SibSp     1309 non-null   int64  \n",
      " 5   Parch     1309 non-null   int64  \n",
      " 6   Ticket    1309 non-null   object \n",
      " 7   Fare      1308 non-null   float64\n",
      " 8   Cabin     295 non-null    object \n",
      " 9   Embarked  1307 non-null   object \n",
      "dtypes: float64(2), int64(3), object(5)\n",
      "memory usage: 102.4+ KB\n"
     ]
    }
   ],
   "source": [
    "df.info()"
   ]
  },
  {
   "cell_type": "code",
   "execution_count": 8,
   "metadata": {
    "execution": {
     "iopub.execute_input": "2023-05-08T10:10:07.848234Z",
     "iopub.status.busy": "2023-05-08T10:10:07.847823Z",
     "iopub.status.idle": "2023-05-08T10:10:08.348832Z",
     "shell.execute_reply": "2023-05-08T10:10:08.347416Z"
    },
    "papermill": {
     "duration": 0.530726,
     "end_time": "2023-05-08T10:10:08.351699",
     "exception": false,
     "start_time": "2023-05-08T10:10:07.820973",
     "status": "completed"
    },
    "tags": []
   },
   "outputs": [
    {
     "data": {
      "text/plain": [
       "Text(0.5, 1.0, 'Train set')"
      ]
     },
     "execution_count": 8,
     "metadata": {},
     "output_type": "execute_result"
    },
    {
     "data": {
      "image/png": "[encoded data removed]",
      "text/plain": [
       "<Figure size 1500x500 with 2 Axes>"
      ]
     },
     "metadata": {},
     "output_type": "display_data"
    }
   ],
   "source": [
    "msno.matrix(df, figsize=(15,5)).set_title(\"Train set\")"
   ]
  },
  {
   "cell_type": "code",
   "execution_count": 9,
   "metadata": {
    "execution": {
     "iopub.execute_input": "2023-05-08T10:10:08.458957Z",
     "iopub.status.busy": "2023-05-08T10:10:08.458171Z",
     "iopub.status.idle": "2023-05-08T10:10:08.470491Z",
     "shell.execute_reply": "2023-05-08T10:10:08.469166Z"
    },
    "papermill": {
     "duration": 0.042109,
     "end_time": "2023-05-08T10:10:08.473259",
     "exception": false,
     "start_time": "2023-05-08T10:10:08.431150",
     "status": "completed"
    },
    "tags": []
   },
   "outputs": [
    {
     "data": {
      "text/plain": [
       "Pclass        -0.338481\n",
       "Age           -0.077221\n",
       "SibSp         -0.035322\n",
       "PassengerId   -0.005007\n",
       "Parch          0.081629\n",
       "Fare           0.257307\n",
       "Survived       1.000000\n",
       "Name: Survived, dtype: float64"
      ]
     },
     "execution_count": 9,
     "metadata": {},
     "output_type": "execute_result"
    }
   ],
   "source": [
    "train_data.corr()['Survived'].sort_values()"
   ]
  },
  {
   "cell_type": "code",
   "execution_count": 10,
   "metadata": {
    "execution": {
     "iopub.execute_input": "2023-05-08T10:10:08.686122Z",
     "iopub.status.busy": "2023-05-08T10:10:08.685417Z",
     "iopub.status.idle": "2023-05-08T10:10:08.694760Z",
     "shell.execute_reply": "2023-05-08T10:10:08.693344Z"
    },
    "papermill": {
     "duration": 0.039598,
     "end_time": "2023-05-08T10:10:08.697487",
     "exception": false,
     "start_time": "2023-05-08T10:10:08.657889",
     "status": "completed"
    },
    "tags": []
   },
   "outputs": [],
   "source": [
    "df[\"Title\"] = df[\"Name\"].str.extract('([A-Za-z]+)\\.',expand=False) #extract title"
   ]
  },
  {
   "cell_type": "code",
   "execution_count": 11,
   "metadata": {
    "execution": {
     "iopub.execute_input": "2023-05-08T10:10:08.752713Z",
     "iopub.status.busy": "2023-05-08T10:10:08.752306Z",
     "iopub.status.idle": "2023-05-08T10:10:08.761237Z",
     "shell.execute_reply": "2023-05-08T10:10:08.760065Z"
    },
    "papermill": {
     "duration": 0.040059,
     "end_time": "2023-05-08T10:10:08.764148",
     "exception": false,
     "start_time": "2023-05-08T10:10:08.724089",
     "status": "completed"
    },
    "tags": []
   },
   "outputs": [
    {
     "data": {
      "text/plain": [
       "Mr          757\n",
       "Miss        260\n",
       "Mrs         197\n",
       "Master       61\n",
       "Rev           8\n",
       "Dr            8\n",
       "Col           4\n",
       "Mlle          2\n",
       "Major         2\n",
       "Ms            2\n",
       "Lady          1\n",
       "Sir           1\n",
       "Mme           1\n",
       "Don           1\n",
       "Capt          1\n",
       "Countess      1\n",
       "Jonkheer      1\n",
       "Dona          1\n",
       "Name: Title, dtype: int64"
      ]
     },
     "execution_count": 11,
     "metadata": {},
     "output_type": "execute_result"
    }
   ],
   "source": [
    "df['Title'].value_counts() #All titles"
   ]
  },
  {
   "cell_type": "code",
   "execution_count": 12,
   "metadata": {
    "execution": {
     "iopub.execute_input": "2023-05-08T10:10:08.820054Z",
     "iopub.status.busy": "2023-05-08T10:10:08.819631Z",
     "iopub.status.idle": "2023-05-08T10:10:08.829294Z",
     "shell.execute_reply": "2023-05-08T10:10:08.827638Z"
    },
    "papermill": {
     "duration": 0.041131,
     "end_time": "2023-05-08T10:10:08.832239",
     "exception": false,
     "start_time": "2023-05-08T10:10:08.791108",
     "status": "completed"
    },
    "tags": []
   },
   "outputs": [],
   "source": [
    "df['Surname'] = df['Name'].str.split(', ').str[0] #extract surname"
   ]
  },
  {
   "cell_type": "code",
   "execution_count": 13,
   "metadata": {
    "execution": {
     "iopub.execute_input": "2023-05-08T10:10:08.941234Z",
     "iopub.status.busy": "2023-05-08T10:10:08.940802Z",
     "iopub.status.idle": "2023-05-08T10:10:08.953752Z",
     "shell.execute_reply": "2023-05-08T10:10:08.952340Z"
    },
    "papermill": {
     "duration": 0.043309,
     "end_time": "2023-05-08T10:10:08.956142",
     "exception": false,
     "start_time": "2023-05-08T10:10:08.912833",
     "status": "completed"
    },
    "tags": []
   },
   "outputs": [
    {
     "data": {
      "text/plain": [
       "count    53.000000\n",
       "mean      5.482642\n",
       "std       4.161554\n",
       "min       0.330000\n",
       "25%       2.000000\n",
       "50%       4.000000\n",
       "75%       9.000000\n",
       "max      14.500000\n",
       "Name: Age, dtype: float64"
      ]
     },
     "execution_count": 13,
     "metadata": {},
     "output_type": "execute_result"
    }
   ],
   "source": [
    "df[df['Title'] == 'Master']['Age'].describe() #check age statistics for 'Master'"
   ]
  },
  {
   "cell_type": "code",
   "execution_count": 14,
   "metadata": {
    "execution": {
     "iopub.execute_input": "2023-05-08T10:10:09.014737Z",
     "iopub.status.busy": "2023-05-08T10:10:09.013482Z",
     "iopub.status.idle": "2023-05-08T10:10:09.028224Z",
     "shell.execute_reply": "2023-05-08T10:10:09.026701Z"
    },
    "papermill": {
     "duration": 0.048558,
     "end_time": "2023-05-08T10:10:09.030962",
     "exception": false,
     "start_time": "2023-05-08T10:10:08.982404",
     "status": "completed"
    },
    "tags": []
   },
   "outputs": [
    {
     "data": {
      "text/plain": [
       "count    581.000000\n",
       "mean      32.252151\n",
       "std       12.422089\n",
       "min       11.000000\n",
       "25%       23.000000\n",
       "50%       29.000000\n",
       "75%       39.000000\n",
       "max       80.000000\n",
       "Name: Age, dtype: float64"
      ]
     },
     "execution_count": 14,
     "metadata": {},
     "output_type": "execute_result"
    }
   ],
   "source": [
    "df[df['Title'] == 'Mr']['Age'].describe() #check age statistics for 'Mr'"
   ]
  },
  {
   "cell_type": "code",
   "execution_count": 15,
   "metadata": {
    "execution": {
     "iopub.execute_input": "2023-05-08T10:10:09.141984Z",
     "iopub.status.busy": "2023-05-08T10:10:09.141560Z",
     "iopub.status.idle": "2023-05-08T10:10:09.150227Z",
     "shell.execute_reply": "2023-05-08T10:10:09.148909Z"
    },
    "papermill": {
     "duration": 0.039473,
     "end_time": "2023-05-08T10:10:09.152478",
     "exception": false,
     "start_time": "2023-05-08T10:10:09.113005",
     "status": "completed"
    },
    "tags": []
   },
   "outputs": [],
   "source": [
    "df.loc[((df['Title'] == 'Mr') & (df['Age'] <= 17)), 'Title'] = 'Master'\n",
    "df.loc[((df['Title'] == 'Master') & (df['Age'] > 17)), 'Title'] = 'Mr'"
   ]
  },
  {
   "cell_type": "code",
   "execution_count": 16,
   "metadata": {
    "execution": {
     "iopub.execute_input": "2023-05-08T10:10:09.209782Z",
     "iopub.status.busy": "2023-05-08T10:10:09.208673Z",
     "iopub.status.idle": "2023-05-08T10:10:09.217641Z",
     "shell.execute_reply": "2023-05-08T10:10:09.216350Z"
    },
    "papermill": {
     "duration": 0.040808,
     "end_time": "2023-05-08T10:10:09.220459",
     "exception": false,
     "start_time": "2023-05-08T10:10:09.179651",
     "status": "completed"
    },
    "tags": []
   },
   "outputs": [],
   "source": [
    "# Change Mlle and Mme to Miss and Mrs\n",
    "df.loc[(df['Title'] == 'Mlle'), 'Title'] = 'Miss'  # Change title Mlle to Miss (there are only two people with this title and they are both 24 years old.)\n",
    "df.loc[(df['Title'] == 'Mme'), 'Title'] = 'Mrs'   # Change title Mme to Mrs (there is only one person with this title and is also 24 years old.)"
   ]
  },
  {
   "cell_type": "code",
   "execution_count": 17,
   "metadata": {
    "execution": {
     "iopub.execute_input": "2023-05-08T10:10:09.276893Z",
     "iopub.status.busy": "2023-05-08T10:10:09.276395Z",
     "iopub.status.idle": "2023-05-08T10:10:09.290394Z",
     "shell.execute_reply": "2023-05-08T10:10:09.288949Z"
    },
    "papermill": {
     "duration": 0.045544,
     "end_time": "2023-05-08T10:10:09.293162",
     "exception": false,
     "start_time": "2023-05-08T10:10:09.247618",
     "status": "completed"
    },
    "tags": []
   },
   "outputs": [
    {
     "data": {
      "text/plain": [
       "count    212.000000\n",
       "mean      21.795236\n",
       "std       12.192794\n",
       "min        0.170000\n",
       "25%       15.000000\n",
       "50%       22.000000\n",
       "75%       30.000000\n",
       "max       63.000000\n",
       "Name: Age, dtype: float64"
      ]
     },
     "execution_count": 17,
     "metadata": {},
     "output_type": "execute_result"
    }
   ],
   "source": [
    "df[df['Title'] == 'Miss']['Age'].describe() #check age statistics for 'Miss'"
   ]
  },
  {
   "cell_type": "code",
   "execution_count": 18,
   "metadata": {
    "execution": {
     "iopub.execute_input": "2023-05-08T10:10:09.351317Z",
     "iopub.status.busy": "2023-05-08T10:10:09.350915Z",
     "iopub.status.idle": "2023-05-08T10:10:09.364572Z",
     "shell.execute_reply": "2023-05-08T10:10:09.363295Z"
    },
    "papermill": {
     "duration": 0.046051,
     "end_time": "2023-05-08T10:10:09.366834",
     "exception": false,
     "start_time": "2023-05-08T10:10:09.320783",
     "status": "completed"
    },
    "tags": []
   },
   "outputs": [
    {
     "data": {
      "text/plain": [
       "count    171.000000\n",
       "mean      36.918129\n",
       "std       12.902087\n",
       "min       14.000000\n",
       "25%       26.500000\n",
       "50%       35.000000\n",
       "75%       46.000000\n",
       "max       76.000000\n",
       "Name: Age, dtype: float64"
      ]
     },
     "execution_count": 18,
     "metadata": {},
     "output_type": "execute_result"
    }
   ],
   "source": [
    "df[df['Title'] == 'Mrs']['Age'].describe() #check age statistics for 'Mrs'"
   ]
  },
  {
   "cell_type": "code",
   "execution_count": 19,
   "metadata": {
    "execution": {
     "iopub.execute_input": "2023-05-08T10:10:09.477990Z",
     "iopub.status.busy": "2023-05-08T10:10:09.477501Z",
     "iopub.status.idle": "2023-05-08T10:10:09.488501Z",
     "shell.execute_reply": "2023-05-08T10:10:09.486309Z"
    },
    "papermill": {
     "duration": 0.041904,
     "end_time": "2023-05-08T10:10:09.491170",
     "exception": false,
     "start_time": "2023-05-08T10:10:09.449266",
     "status": "completed"
    },
    "tags": []
   },
   "outputs": [],
   "source": [
    "df.loc[((df['Title'] == 'Mrs') & (df['Age'] <= 17)), 'Title'] = 'Miss'\n",
    "df.loc[((df['Title'] == 'Miss') & (df['Age'] > 30)), 'Title'] = 'Ms'"
   ]
  },
  {
   "cell_type": "code",
   "execution_count": 20,
   "metadata": {
    "execution": {
     "iopub.execute_input": "2023-05-08T10:10:09.605871Z",
     "iopub.status.busy": "2023-05-08T10:10:09.604967Z",
     "iopub.status.idle": "2023-05-08T10:10:09.619439Z",
     "shell.execute_reply": "2023-05-08T10:10:09.617858Z"
    },
    "papermill": {
     "duration": 0.048105,
     "end_time": "2023-05-08T10:10:09.622224",
     "exception": false,
     "start_time": "2023-05-08T10:10:09.574119",
     "status": "completed"
    },
    "tags": []
   },
   "outputs": [],
   "source": [
    "titles = ['Dr', 'Rev', 'Major', 'Col', 'Capt', 'Jonkheer']\n",
    "df.loc[((df['Title'].isin(titles)) & (df['Sex'] == 'male')), 'Title'] = 'Mr'\n",
    "df.loc[((df['Title'].isin(titles)) & (df['Sex'] == 'female')), 'Title'] = 'Mrs'"
   ]
  },
  {
   "cell_type": "code",
   "execution_count": 21,
   "metadata": {
    "execution": {
     "iopub.execute_input": "2023-05-08T10:10:09.730677Z",
     "iopub.status.busy": "2023-05-08T10:10:09.729914Z",
     "iopub.status.idle": "2023-05-08T10:10:09.740844Z",
     "shell.execute_reply": "2023-05-08T10:10:09.739416Z"
    },
    "papermill": {
     "duration": 0.041258,
     "end_time": "2023-05-08T10:10:09.743275",
     "exception": false,
     "start_time": "2023-05-08T10:10:09.702017",
     "status": "completed"
    },
    "tags": []
   },
   "outputs": [],
   "source": [
    "titles_royal = ['Countess', 'Sir', 'Lady', 'Don', 'Dona']\n",
    "df.loc[((df['Title'].isin(titles_royal)) & (df['Sex'] == 'male')), 'Title'] = 'Mr'\n",
    "df.loc[((df['Title'].isin(titles_royal)) & (df['Sex'] == 'female')), 'Title'] = 'Mrs'"
   ]
  },
  {
   "cell_type": "code",
   "execution_count": 22,
   "metadata": {
    "execution": {
     "iopub.execute_input": "2023-05-08T10:10:09.852736Z",
     "iopub.status.busy": "2023-05-08T10:10:09.852295Z",
     "iopub.status.idle": "2023-05-08T10:10:09.870298Z",
     "shell.execute_reply": "2023-05-08T10:10:09.868930Z"
    },
    "papermill": {
     "duration": 0.04925,
     "end_time": "2023-05-08T10:10:09.873541",
     "exception": false,
     "start_time": "2023-05-08T10:10:09.824291",
     "status": "completed"
    },
    "tags": []
   },
   "outputs": [],
   "source": [
    "df.loc[df['Age'] <= 17, 'Status'] = 'Child'\n",
    "df.loc[df['Title'] == 'Master', 'Status'] = 'Child'\n",
    "df.loc[((df['Sex'] == 'female') & (df['Parch'] > 0)), 'Status'] = 'Mother'\n",
    "df.loc[((df['Sex'] == 'male') & (df['Parch'] > 0)), 'Status'] = 'Father'\n",
    "df.loc[((df['Sex'] == 'female') & (df['Parch'] == 0)), 'Status'] = 'Woman'\n",
    "df.loc[((df['Sex'] == 'male') & (df['Parch'] == 0)), 'Status'] = 'Man'"
   ]
  },
  {
   "cell_type": "code",
   "execution_count": 23,
   "metadata": {
    "execution": {
     "iopub.execute_input": "2023-05-08T10:10:09.988671Z",
     "iopub.status.busy": "2023-05-08T10:10:09.988274Z",
     "iopub.status.idle": "2023-05-08T10:10:10.343872Z",
     "shell.execute_reply": "2023-05-08T10:10:10.342681Z"
    },
    "papermill": {
     "duration": 0.387437,
     "end_time": "2023-05-08T10:10:10.346798",
     "exception": false,
     "start_time": "2023-05-08T10:10:09.959361",
     "status": "completed"
    },
    "tags": []
   },
   "outputs": [],
   "source": [
    "for i, a in enumerate(df['Age']):\n",
    "    if pd.isna(a):\n",
    "        df.loc[i, 'Age'] = df[df['Title'] == df.loc[i, 'Title']]['Age'].median()"
   ]
  },
  {
   "cell_type": "code",
   "execution_count": 24,
   "metadata": {
    "execution": {
     "iopub.execute_input": "2023-05-08T10:10:10.405071Z",
     "iopub.status.busy": "2023-05-08T10:10:10.404667Z",
     "iopub.status.idle": "2023-05-08T10:10:10.411871Z",
     "shell.execute_reply": "2023-05-08T10:10:10.410633Z"
    },
    "papermill": {
     "duration": 0.038956,
     "end_time": "2023-05-08T10:10:10.414317",
     "exception": false,
     "start_time": "2023-05-08T10:10:10.375361",
     "status": "completed"
    },
    "tags": []
   },
   "outputs": [
    {
     "data": {
      "text/plain": [
       "0"
      ]
     },
     "execution_count": 24,
     "metadata": {},
     "output_type": "execute_result"
    }
   ],
   "source": [
    "df['Age'].isna().sum()"
   ]
  },
  {
   "cell_type": "code",
   "execution_count": 25,
   "metadata": {
    "execution": {
     "iopub.execute_input": "2023-05-08T10:10:10.524599Z",
     "iopub.status.busy": "2023-05-08T10:10:10.524195Z",
     "iopub.status.idle": "2023-05-08T10:10:10.535100Z",
     "shell.execute_reply": "2023-05-08T10:10:10.533785Z"
    },
    "papermill": {
     "duration": 0.042732,
     "end_time": "2023-05-08T10:10:10.537778",
     "exception": false,
     "start_time": "2023-05-08T10:10:10.495046",
     "status": "completed"
    },
    "tags": []
   },
   "outputs": [],
   "source": [
    "df['Ticket_ref'] = [i[0] if len(i) > 1 else 0 for i in df['Ticket'].str.split()] #split ticket to get the ticket reference\n",
    "df['Ticket_number'] = [i[-1] for i in df['Ticket'].str.split()] #split ticket to get the ticket number"
   ]
  },
  {
   "cell_type": "code",
   "execution_count": 26,
   "metadata": {
    "execution": {
     "iopub.execute_input": "2023-05-08T10:10:10.594923Z",
     "iopub.status.busy": "2023-05-08T10:10:10.594501Z",
     "iopub.status.idle": "2023-05-08T10:10:10.606981Z",
     "shell.execute_reply": "2023-05-08T10:10:10.605735Z"
    },
    "papermill": {
     "duration": 0.0444,
     "end_time": "2023-05-08T10:10:10.609957",
     "exception": false,
     "start_time": "2023-05-08T10:10:10.565557",
     "status": "completed"
    },
    "tags": []
   },
   "outputs": [],
   "source": [
    "ticket_dict = df.groupby('Ticket_number')['Surname'].count().to_dict() #create dict grouped by people with the same ticket and surname\n",
    "df['Same_ticket'] = df.Ticket_number.map(ticket_dict) # Number of people with the same ticket.\n",
    "\n",
    "\n",
    "df['Price_pp'] = (df.Fare / df['Same_ticket']).round(1) # Price payed per person"
   ]
  },
  {
   "cell_type": "code",
   "execution_count": 27,
   "metadata": {
    "execution": {
     "iopub.execute_input": "2023-05-08T10:10:10.666159Z",
     "iopub.status.busy": "2023-05-08T10:10:10.665145Z",
     "iopub.status.idle": "2023-05-08T10:10:10.672621Z",
     "shell.execute_reply": "2023-05-08T10:10:10.671409Z"
    },
    "papermill": {
     "duration": 0.037935,
     "end_time": "2023-05-08T10:10:10.675095",
     "exception": false,
     "start_time": "2023-05-08T10:10:10.637160",
     "status": "completed"
    },
    "tags": []
   },
   "outputs": [],
   "source": [
    "df['Cabin_ltr'] = df['Cabin'].str[0] # get cabin leters"
   ]
  },
  {
   "cell_type": "code",
   "execution_count": 28,
   "metadata": {
    "execution": {
     "iopub.execute_input": "2023-05-08T10:10:10.731276Z",
     "iopub.status.busy": "2023-05-08T10:10:10.730874Z",
     "iopub.status.idle": "2023-05-08T10:10:10.739116Z",
     "shell.execute_reply": "2023-05-08T10:10:10.737899Z"
    },
    "papermill": {
     "duration": 0.039466,
     "end_time": "2023-05-08T10:10:10.741618",
     "exception": false,
     "start_time": "2023-05-08T10:10:10.702152",
     "status": "completed"
    },
    "tags": []
   },
   "outputs": [
    {
     "data": {
      "text/plain": [
       "1014"
      ]
     },
     "execution_count": 28,
     "metadata": {},
     "output_type": "execute_result"
    }
   ],
   "source": [
    "df['Cabin_ltr'].isna().sum()"
   ]
  },
  {
   "cell_type": "code",
   "execution_count": 29,
   "metadata": {
    "execution": {
     "iopub.execute_input": "2023-05-08T10:10:10.851623Z",
     "iopub.status.busy": "2023-05-08T10:10:10.851198Z",
     "iopub.status.idle": "2023-05-08T10:10:10.859559Z",
     "shell.execute_reply": "2023-05-08T10:10:10.858565Z"
    },
    "papermill": {
     "duration": 0.038801,
     "end_time": "2023-05-08T10:10:10.861966",
     "exception": false,
     "start_time": "2023-05-08T10:10:10.823165",
     "status": "completed"
    },
    "tags": []
   },
   "outputs": [],
   "source": [
    "def cabin_na(dataframe, feature):\n",
    "    tickets = dataframe[(dataframe['Same_ticket'] > 1) & (~dataframe['Cabin_ltr'].isna())][feature].unique() #Select the tickets that have more than one entry\n",
    "    cabin_ticket = dataframe[dataframe[feature].isin(tickets)][[feature, 'Cabin_ltr']] #dataframe of the tickets with more than one entry and their designated cabin letter\n",
    "    cabin_ticket.dropna(inplace=True)\n",
    "    \n",
    "#map the two columns in cabin_ticket into a dictionary\n",
    "    c = cabin_ticket[feature].to_list()\n",
    "    b = cabin_ticket['Cabin_ltr'].to_list()\n",
    "    map = {c[i]: b[i] for i in range(len(c))}\n",
    "\n",
    "    for i, ticket_n in enumerate(dataframe[feature]): #iterate through all the tickets\n",
    "        for ticket, cabin in map.items(): #iterate through the tickets that have more than one entry\n",
    "            if ticket_n == ticket: # check if the ticket we selected in the fist instance corresponds to the list of tickets with more than one entry\n",
    "                dataframe.loc[i, 'Cabin_ltr'] = cabin #replace the value of cabin_ltr(nan) with the value of the cabin designated in the map dict for that ticket number."
   ]
  },
  {
   "cell_type": "code",
   "execution_count": 30,
   "metadata": {
    "execution": {
     "iopub.execute_input": "2023-05-08T10:10:10.918229Z",
     "iopub.status.busy": "2023-05-08T10:10:10.917774Z",
     "iopub.status.idle": "2023-05-08T10:10:10.989161Z",
     "shell.execute_reply": "2023-05-08T10:10:10.987849Z"
    },
    "papermill": {
     "duration": 0.103321,
     "end_time": "2023-05-08T10:10:10.992038",
     "exception": false,
     "start_time": "2023-05-08T10:10:10.888717",
     "status": "completed"
    },
    "tags": []
   },
   "outputs": [],
   "source": [
    "cabin_na(df, 'Ticket_number')"
   ]
  },
  {
   "cell_type": "code",
   "execution_count": 31,
   "metadata": {
    "execution": {
     "iopub.execute_input": "2023-05-08T10:10:11.050837Z",
     "iopub.status.busy": "2023-05-08T10:10:11.049716Z",
     "iopub.status.idle": "2023-05-08T10:10:11.058226Z",
     "shell.execute_reply": "2023-05-08T10:10:11.056995Z"
    },
    "papermill": {
     "duration": 0.041142,
     "end_time": "2023-05-08T10:10:11.060923",
     "exception": false,
     "start_time": "2023-05-08T10:10:11.019781",
     "status": "completed"
    },
    "tags": []
   },
   "outputs": [
    {
     "data": {
      "text/plain": [
       "997"
      ]
     },
     "execution_count": 31,
     "metadata": {},
     "output_type": "execute_result"
    }
   ],
   "source": [
    "df['Cabin_ltr'].isna().sum()"
   ]
  },
  {
   "cell_type": "code",
   "execution_count": 32,
   "metadata": {
    "execution": {
     "iopub.execute_input": "2023-05-08T10:10:11.173233Z",
     "iopub.status.busy": "2023-05-08T10:10:11.172775Z",
     "iopub.status.idle": "2023-05-08T10:10:11.237455Z",
     "shell.execute_reply": "2023-05-08T10:10:11.236188Z"
    },
    "papermill": {
     "duration": 0.095707,
     "end_time": "2023-05-08T10:10:11.240117",
     "exception": false,
     "start_time": "2023-05-08T10:10:11.144410",
     "status": "completed"
    },
    "tags": []
   },
   "outputs": [
    {
     "data": {
      "text/html": [
       "<div>\n",
       "<style scoped>\n",
       "    .dataframe tbody tr th:only-of-type {\n",
       "        vertical-align: middle;\n",
       "    }\n",
       "\n",
       "    .dataframe tbody tr th {\n",
       "        vertical-align: top;\n",
       "    }\n",
       "\n",
       "    .dataframe thead th {\n",
       "        text-align: right;\n",
       "    }\n",
       "</style>\n",
       "<table border=\"1\" class=\"dataframe\">\n",
       "  <thead>\n",
       "    <tr style=\"text-align: right;\">\n",
       "      <th></th>\n",
       "      <th></th>\n",
       "      <th>count</th>\n",
       "      <th>mean</th>\n",
       "      <th>std</th>\n",
       "      <th>min</th>\n",
       "      <th>25%</th>\n",
       "      <th>50%</th>\n",
       "      <th>75%</th>\n",
       "      <th>max</th>\n",
       "    </tr>\n",
       "    <tr>\n",
       "      <th>Pclass</th>\n",
       "      <th>Cabin_ltr</th>\n",
       "      <th></th>\n",
       "      <th></th>\n",
       "      <th></th>\n",
       "      <th></th>\n",
       "      <th></th>\n",
       "      <th></th>\n",
       "      <th></th>\n",
       "      <th></th>\n",
       "    </tr>\n",
       "  </thead>\n",
       "  <tbody>\n",
       "    <tr>\n",
       "      <th rowspan=\"6\" valign=\"top\">1</th>\n",
       "      <th>A</th>\n",
       "      <td>24.0</td>\n",
       "      <td>30.991667</td>\n",
       "      <td>9.459015</td>\n",
       "      <td>0.0</td>\n",
       "      <td>27.3</td>\n",
       "      <td>29.85</td>\n",
       "      <td>34.900</td>\n",
       "      <td>50.5</td>\n",
       "    </tr>\n",
       "    <tr>\n",
       "      <th>B</th>\n",
       "      <td>69.0</td>\n",
       "      <td>40.618841</td>\n",
       "      <td>26.883005</td>\n",
       "      <td>0.0</td>\n",
       "      <td>28.8</td>\n",
       "      <td>35.50</td>\n",
       "      <td>45.500</td>\n",
       "      <td>128.1</td>\n",
       "    </tr>\n",
       "    <tr>\n",
       "      <th>C</th>\n",
       "      <td>103.0</td>\n",
       "      <td>35.928155</td>\n",
       "      <td>9.765590</td>\n",
       "      <td>25.3</td>\n",
       "      <td>27.7</td>\n",
       "      <td>33.90</td>\n",
       "      <td>43.050</td>\n",
       "      <td>68.4</td>\n",
       "    </tr>\n",
       "    <tr>\n",
       "      <th>D</th>\n",
       "      <td>40.0</td>\n",
       "      <td>30.025000</td>\n",
       "      <td>5.730295</td>\n",
       "      <td>19.7</td>\n",
       "      <td>26.0</td>\n",
       "      <td>26.60</td>\n",
       "      <td>37.600</td>\n",
       "      <td>39.1</td>\n",
       "    </tr>\n",
       "    <tr>\n",
       "      <th>E</th>\n",
       "      <td>33.0</td>\n",
       "      <td>26.633333</td>\n",
       "      <td>4.135492</td>\n",
       "      <td>13.1</td>\n",
       "      <td>26.6</td>\n",
       "      <td>26.90</td>\n",
       "      <td>27.700</td>\n",
       "      <td>38.5</td>\n",
       "    </tr>\n",
       "    <tr>\n",
       "      <th>T</th>\n",
       "      <td>1.0</td>\n",
       "      <td>35.500000</td>\n",
       "      <td>NaN</td>\n",
       "      <td>35.5</td>\n",
       "      <td>35.5</td>\n",
       "      <td>35.50</td>\n",
       "      <td>35.500</td>\n",
       "      <td>35.5</td>\n",
       "    </tr>\n",
       "    <tr>\n",
       "      <th rowspan=\"3\" valign=\"top\">2</th>\n",
       "      <th>D</th>\n",
       "      <td>6.0</td>\n",
       "      <td>13.600000</td>\n",
       "      <td>0.812404</td>\n",
       "      <td>12.9</td>\n",
       "      <td>13.0</td>\n",
       "      <td>13.40</td>\n",
       "      <td>13.875</td>\n",
       "      <td>15.0</td>\n",
       "    </tr>\n",
       "    <tr>\n",
       "      <th>E</th>\n",
       "      <td>5.0</td>\n",
       "      <td>9.260000</td>\n",
       "      <td>3.819424</td>\n",
       "      <td>5.2</td>\n",
       "      <td>5.2</td>\n",
       "      <td>10.50</td>\n",
       "      <td>12.400</td>\n",
       "      <td>13.0</td>\n",
       "    </tr>\n",
       "    <tr>\n",
       "      <th>F</th>\n",
       "      <td>13.0</td>\n",
       "      <td>10.446154</td>\n",
       "      <td>1.591443</td>\n",
       "      <td>8.7</td>\n",
       "      <td>9.8</td>\n",
       "      <td>9.80</td>\n",
       "      <td>10.500</td>\n",
       "      <td>13.0</td>\n",
       "    </tr>\n",
       "    <tr>\n",
       "      <th rowspan=\"3\" valign=\"top\">3</th>\n",
       "      <th>E</th>\n",
       "      <td>3.0</td>\n",
       "      <td>6.800000</td>\n",
       "      <td>1.039230</td>\n",
       "      <td>6.2</td>\n",
       "      <td>6.2</td>\n",
       "      <td>6.20</td>\n",
       "      <td>7.100</td>\n",
       "      <td>8.0</td>\n",
       "    </tr>\n",
       "    <tr>\n",
       "      <th>F</th>\n",
       "      <td>10.0</td>\n",
       "      <td>7.510000</td>\n",
       "      <td>0.185293</td>\n",
       "      <td>7.2</td>\n",
       "      <td>7.5</td>\n",
       "      <td>7.55</td>\n",
       "      <td>7.600</td>\n",
       "      <td>7.8</td>\n",
       "    </tr>\n",
       "    <tr>\n",
       "      <th>G</th>\n",
       "      <td>5.0</td>\n",
       "      <td>5.440000</td>\n",
       "      <td>0.219089</td>\n",
       "      <td>5.2</td>\n",
       "      <td>5.2</td>\n",
       "      <td>5.60</td>\n",
       "      <td>5.600</td>\n",
       "      <td>5.6</td>\n",
       "    </tr>\n",
       "  </tbody>\n",
       "</table>\n",
       "</div>"
      ],
      "text/plain": [
       "                  count       mean        std   min   25%    50%     75%  \\\n",
       "Pclass Cabin_ltr                                                           \n",
       "1      A           24.0  30.991667   9.459015   0.0  27.3  29.85  34.900   \n",
       "       B           69.0  40.618841  26.883005   0.0  28.8  35.50  45.500   \n",
       "       C          103.0  35.928155   9.765590  25.3  27.7  33.90  43.050   \n",
       "       D           40.0  30.025000   5.730295  19.7  26.0  26.60  37.600   \n",
       "       E           33.0  26.633333   4.135492  13.1  26.6  26.90  27.700   \n",
       "       T            1.0  35.500000        NaN  35.5  35.5  35.50  35.500   \n",
       "2      D            6.0  13.600000   0.812404  12.9  13.0  13.40  13.875   \n",
       "       E            5.0   9.260000   3.819424   5.2   5.2  10.50  12.400   \n",
       "       F           13.0  10.446154   1.591443   8.7   9.8   9.80  10.500   \n",
       "3      E            3.0   6.800000   1.039230   6.2   6.2   6.20   7.100   \n",
       "       F           10.0   7.510000   0.185293   7.2   7.5   7.55   7.600   \n",
       "       G            5.0   5.440000   0.219089   5.2   5.2   5.60   5.600   \n",
       "\n",
       "                    max  \n",
       "Pclass Cabin_ltr         \n",
       "1      A           50.5  \n",
       "       B          128.1  \n",
       "       C           68.4  \n",
       "       D           39.1  \n",
       "       E           38.5  \n",
       "       T           35.5  \n",
       "2      D           15.0  \n",
       "       E           13.0  \n",
       "       F           13.0  \n",
       "3      E            8.0  \n",
       "       F            7.8  \n",
       "       G            5.6  "
      ]
     },
     "execution_count": 32,
     "metadata": {},
     "output_type": "execute_result"
    }
   ],
   "source": [
    "df.groupby(['Pclass', 'Cabin_ltr']).Price_pp.describe()"
   ]
  },
  {
   "cell_type": "code",
   "execution_count": 33,
   "metadata": {
    "execution": {
     "iopub.execute_input": "2023-05-08T10:10:11.353171Z",
     "iopub.status.busy": "2023-05-08T10:10:11.352726Z",
     "iopub.status.idle": "2023-05-08T10:10:11.365333Z",
     "shell.execute_reply": "2023-05-08T10:10:11.364151Z"
    },
    "papermill": {
     "duration": 0.044454,
     "end_time": "2023-05-08T10:10:11.367826",
     "exception": false,
     "start_time": "2023-05-08T10:10:11.323372",
     "status": "completed"
    },
    "tags": []
   },
   "outputs": [
    {
     "data": {
      "text/plain": [
       "806      0.0\n",
       "110     26.0\n",
       "475     26.0\n",
       "284     26.0\n",
       "1265    27.3\n",
       "445     27.3\n",
       "1184    27.3\n",
       "1099    27.7\n",
       "309     28.5\n",
       "599     28.5\n",
       "937     29.7\n",
       "1222    29.7\n",
       "630     30.0\n",
       "919     30.5\n",
       "174     30.7\n",
       "209     31.0\n",
       "1003    31.7\n",
       "96      34.7\n",
       "23      35.5\n",
       "647     35.5\n",
       "556     39.6\n",
       "583     40.1\n",
       "185     50.0\n",
       "867     50.5\n",
       "Name: Price_pp, dtype: float64"
      ]
     },
     "execution_count": 33,
     "metadata": {},
     "output_type": "execute_result"
    }
   ],
   "source": [
    "df[(df['Pclass'] == 1) & (df['Cabin_ltr'] == 'A')]['Price_pp'].sort_values()"
   ]
  },
  {
   "cell_type": "code",
   "execution_count": 34,
   "metadata": {
    "execution": {
     "iopub.execute_input": "2023-05-08T10:10:11.426032Z",
     "iopub.status.busy": "2023-05-08T10:10:11.425541Z",
     "iopub.status.idle": "2023-05-08T10:10:11.433273Z",
     "shell.execute_reply": "2023-05-08T10:10:11.432019Z"
    },
    "papermill": {
     "duration": 0.039731,
     "end_time": "2023-05-08T10:10:11.435739",
     "exception": false,
     "start_time": "2023-05-08T10:10:11.396008",
     "status": "completed"
    },
    "tags": []
   },
   "outputs": [],
   "source": [
    "# The minimum value payed of 0 is an outliner. We will replace it with the second lowest value of 26.\n",
    "df.loc[((df['Cabin_ltr'] == 'A') & (df['Price_pp'] == 0)), 'Price_pp'] = 26"
   ]
  },
  {
   "cell_type": "code",
   "execution_count": 35,
   "metadata": {
    "execution": {
     "iopub.execute_input": "2023-05-08T10:10:11.492447Z",
     "iopub.status.busy": "2023-05-08T10:10:11.492005Z",
     "iopub.status.idle": "2023-05-08T10:10:11.503861Z",
     "shell.execute_reply": "2023-05-08T10:10:11.502541Z"
    },
    "papermill": {
     "duration": 0.043681,
     "end_time": "2023-05-08T10:10:11.506653",
     "exception": false,
     "start_time": "2023-05-08T10:10:11.462972",
     "status": "completed"
    },
    "tags": []
   },
   "outputs": [
    {
     "data": {
      "text/plain": [
       "815      0.0\n",
       "1263     0.0\n",
       "263      0.0\n",
       "872      5.0\n",
       "572      8.8\n",
       "690     19.0\n",
       "781     19.0\n",
       "1281    23.4\n",
       "1199    23.4\n",
       "520     23.4\n",
       "Name: Price_pp, dtype: float64"
      ]
     },
     "execution_count": 35,
     "metadata": {},
     "output_type": "execute_result"
    }
   ],
   "source": [
    "df[(df['Pclass'] == 1) & (df['Cabin_ltr'] == 'B')]['Price_pp'].sort_values(ascending=True).head(10)"
   ]
  },
  {
   "cell_type": "code",
   "execution_count": 36,
   "metadata": {
    "execution": {
     "iopub.execute_input": "2023-05-08T10:10:11.564887Z",
     "iopub.status.busy": "2023-05-08T10:10:11.564442Z",
     "iopub.status.idle": "2023-05-08T10:10:11.574470Z",
     "shell.execute_reply": "2023-05-08T10:10:11.573005Z"
    },
    "papermill": {
     "duration": 0.042501,
     "end_time": "2023-05-08T10:10:11.577009",
     "exception": false,
     "start_time": "2023-05-08T10:10:11.534508",
     "status": "completed"
    },
    "tags": []
   },
   "outputs": [],
   "source": [
    "df.loc[((df['Cabin_ltr'] == 'B') & (df['Price_pp'] < 19)), 'Price_pp'] = 19 #outlier reduction\n",
    "df.loc[((df['Cabin_ltr'] == 'B') & (df['Price_pp'] >= 82.5)), 'Price_pp'] = 82.5 #outlier reduction"
   ]
  },
  {
   "cell_type": "code",
   "execution_count": 37,
   "metadata": {
    "execution": {
     "iopub.execute_input": "2023-05-08T10:10:11.691480Z",
     "iopub.status.busy": "2023-05-08T10:10:11.691083Z",
     "iopub.status.idle": "2023-05-08T10:10:11.698495Z",
     "shell.execute_reply": "2023-05-08T10:10:11.697297Z"
    },
    "papermill": {
     "duration": 0.03903,
     "end_time": "2023-05-08T10:10:11.700951",
     "exception": false,
     "start_time": "2023-05-08T10:10:11.661921",
     "status": "completed"
    },
    "tags": []
   },
   "outputs": [
    {
     "data": {
      "text/plain": [
       "1"
      ]
     },
     "execution_count": 37,
     "metadata": {},
     "output_type": "execute_result"
    }
   ],
   "source": [
    "df['Price_pp'].isna().sum()"
   ]
  },
  {
   "cell_type": "code",
   "execution_count": 38,
   "metadata": {
    "execution": {
     "iopub.execute_input": "2023-05-08T10:10:11.760366Z",
     "iopub.status.busy": "2023-05-08T10:10:11.759898Z",
     "iopub.status.idle": "2023-05-08T10:10:11.767262Z",
     "shell.execute_reply": "2023-05-08T10:10:11.766229Z"
    },
    "papermill": {
     "duration": 0.040003,
     "end_time": "2023-05-08T10:10:11.769571",
     "exception": false,
     "start_time": "2023-05-08T10:10:11.729568",
     "status": "completed"
    },
    "tags": []
   },
   "outputs": [
    {
     "name": "stdout",
     "output_type": "stream",
     "text": [
      "1043\n"
     ]
    }
   ],
   "source": [
    "for index, price in enumerate(df['Price_pp']): #find the value's index\n",
    "    if pd.isna(price):\n",
    "        print(index)"
   ]
  },
  {
   "cell_type": "code",
   "execution_count": 39,
   "metadata": {
    "execution": {
     "iopub.execute_input": "2023-05-08T10:10:11.827006Z",
     "iopub.status.busy": "2023-05-08T10:10:11.826548Z",
     "iopub.status.idle": "2023-05-08T10:10:11.835854Z",
     "shell.execute_reply": "2023-05-08T10:10:11.834564Z"
    },
    "papermill": {
     "duration": 0.040802,
     "end_time": "2023-05-08T10:10:11.838226",
     "exception": false,
     "start_time": "2023-05-08T10:10:11.797424",
     "status": "completed"
    },
    "tags": []
   },
   "outputs": [
    {
     "data": {
      "text/plain": [
       "Pclass                            3\n",
       "Name             Storey, Mr. Thomas\n",
       "Sex                            male\n",
       "Age                            60.5\n",
       "SibSp                             0\n",
       "Parch                             0\n",
       "Ticket                         3701\n",
       "Fare                            NaN\n",
       "Cabin                           NaN\n",
       "Embarked                          S\n",
       "Title                            Mr\n",
       "Surname                      Storey\n",
       "Status                          Man\n",
       "Ticket_ref                        0\n",
       "Ticket_number                  3701\n",
       "Same_ticket                       1\n",
       "Price_pp                        NaN\n",
       "Cabin_ltr                       NaN\n",
       "Name: 1043, dtype: object"
      ]
     },
     "execution_count": 39,
     "metadata": {},
     "output_type": "execute_result"
    }
   ],
   "source": [
    "df.iloc[1043]"
   ]
  },
  {
   "cell_type": "code",
   "execution_count": 40,
   "metadata": {
    "execution": {
     "iopub.execute_input": "2023-05-08T10:10:11.896029Z",
     "iopub.status.busy": "2023-05-08T10:10:11.895574Z",
     "iopub.status.idle": "2023-05-08T10:10:11.905702Z",
     "shell.execute_reply": "2023-05-08T10:10:11.904426Z"
    },
    "papermill": {
     "duration": 0.041655,
     "end_time": "2023-05-08T10:10:11.908064",
     "exception": false,
     "start_time": "2023-05-08T10:10:11.866409",
     "status": "completed"
    },
    "tags": []
   },
   "outputs": [],
   "source": [
    "df.loc[1043, 'Price_pp'] = df[(df['Pclass'] == 3) & (df['Embarked'] == 'S')]['Price_pp'].mean().round(1) #replace the missing value with the mean price_pp based on Plcass and Embarked"
   ]
  },
  {
   "cell_type": "code",
   "execution_count": 41,
   "metadata": {
    "execution": {
     "iopub.execute_input": "2023-05-08T10:10:11.966380Z",
     "iopub.status.busy": "2023-05-08T10:10:11.965941Z",
     "iopub.status.idle": "2023-05-08T10:10:11.994671Z",
     "shell.execute_reply": "2023-05-08T10:10:11.993102Z"
    },
    "papermill": {
     "duration": 0.061132,
     "end_time": "2023-05-08T10:10:11.997387",
     "exception": false,
     "start_time": "2023-05-08T10:10:11.936255",
     "status": "completed"
    },
    "tags": []
   },
   "outputs": [
    {
     "data": {
      "text/html": [
       "<div>\n",
       "<style scoped>\n",
       "    .dataframe tbody tr th:only-of-type {\n",
       "        vertical-align: middle;\n",
       "    }\n",
       "\n",
       "    .dataframe tbody tr th {\n",
       "        vertical-align: top;\n",
       "    }\n",
       "\n",
       "    .dataframe thead th {\n",
       "        text-align: right;\n",
       "    }\n",
       "</style>\n",
       "<table border=\"1\" class=\"dataframe\">\n",
       "  <thead>\n",
       "    <tr style=\"text-align: right;\">\n",
       "      <th></th>\n",
       "      <th>count</th>\n",
       "      <th>mean</th>\n",
       "      <th>std</th>\n",
       "      <th>min</th>\n",
       "      <th>25%</th>\n",
       "      <th>50%</th>\n",
       "      <th>75%</th>\n",
       "      <th>max</th>\n",
       "    </tr>\n",
       "    <tr>\n",
       "      <th>Pclass</th>\n",
       "      <th></th>\n",
       "      <th></th>\n",
       "      <th></th>\n",
       "      <th></th>\n",
       "      <th></th>\n",
       "      <th></th>\n",
       "      <th></th>\n",
       "      <th></th>\n",
       "    </tr>\n",
       "  </thead>\n",
       "  <tbody>\n",
       "    <tr>\n",
       "      <th>1</th>\n",
       "      <td>53.0</td>\n",
       "      <td>28.837736</td>\n",
       "      <td>12.034266</td>\n",
       "      <td>0.0</td>\n",
       "      <td>26.0</td>\n",
       "      <td>26.6</td>\n",
       "      <td>30.7</td>\n",
       "      <td>66.8</td>\n",
       "    </tr>\n",
       "    <tr>\n",
       "      <th>2</th>\n",
       "      <td>253.0</td>\n",
       "      <td>11.411858</td>\n",
       "      <td>2.696400</td>\n",
       "      <td>0.0</td>\n",
       "      <td>10.5</td>\n",
       "      <td>12.5</td>\n",
       "      <td>13.0</td>\n",
       "      <td>16.0</td>\n",
       "    </tr>\n",
       "    <tr>\n",
       "      <th>3</th>\n",
       "      <td>691.0</td>\n",
       "      <td>7.314327</td>\n",
       "      <td>1.512962</td>\n",
       "      <td>0.0</td>\n",
       "      <td>7.1</td>\n",
       "      <td>7.8</td>\n",
       "      <td>7.9</td>\n",
       "      <td>20.0</td>\n",
       "    </tr>\n",
       "  </tbody>\n",
       "</table>\n",
       "</div>"
      ],
      "text/plain": [
       "        count       mean        std  min   25%   50%   75%   max\n",
       "Pclass                                                          \n",
       "1        53.0  28.837736  12.034266  0.0  26.0  26.6  30.7  66.8\n",
       "2       253.0  11.411858   2.696400  0.0  10.5  12.5  13.0  16.0\n",
       "3       691.0   7.314327   1.512962  0.0   7.1   7.8   7.9  20.0"
      ]
     },
     "execution_count": 41,
     "metadata": {},
     "output_type": "execute_result"
    }
   ],
   "source": [
    "df[df['Cabin_ltr'].isna()].groupby('Pclass')['Price_pp'].describe() #look for the price_pp statistics in the different classes where cabin is NaN."
   ]
  },
  {
   "cell_type": "code",
   "execution_count": 42,
   "metadata": {
    "execution": {
     "iopub.execute_input": "2023-05-08T10:10:12.056141Z",
     "iopub.status.busy": "2023-05-08T10:10:12.055691Z",
     "iopub.status.idle": "2023-05-08T10:10:12.065932Z",
     "shell.execute_reply": "2023-05-08T10:10:12.064932Z"
    },
    "papermill": {
     "duration": 0.041706,
     "end_time": "2023-05-08T10:10:12.068228",
     "exception": false,
     "start_time": "2023-05-08T10:10:12.026522",
     "status": "completed"
    },
    "tags": []
   },
   "outputs": [],
   "source": [
    "df.loc[((df['Cabin_ltr'].isna()) & (df['Pclass'] == 1) & (df['Price_pp'] < 9)), 'Price_pp'] = 9 #remove price outliers from cabin NaN based on Pclass\n",
    "df.loc[((df['Cabin_ltr'].isna()) & (df['Pclass'] == 2) & (df['Price_pp'] < 9)), 'Price_pp'] = 5 #remove price outliers from cabin NaN based on Pclass"
   ]
  },
  {
   "cell_type": "code",
   "execution_count": 43,
   "metadata": {
    "execution": {
     "iopub.execute_input": "2023-05-08T10:10:12.184738Z",
     "iopub.status.busy": "2023-05-08T10:10:12.184299Z",
     "iopub.status.idle": "2023-05-08T10:10:12.191145Z",
     "shell.execute_reply": "2023-05-08T10:10:12.189947Z"
    },
    "papermill": {
     "duration": 0.039638,
     "end_time": "2023-05-08T10:10:12.193612",
     "exception": false,
     "start_time": "2023-05-08T10:10:12.153974",
     "status": "completed"
    },
    "tags": []
   },
   "outputs": [],
   "source": [
    "class_price = {\n",
    "    1: {'A': [26, 35], 'B': [45, 83], 'C': [35, 45], 'D': [19, 26], 'E': [9, 19], 'T': [35, 36]},\n",
    "    2: {'D': [12, 17], 'E': [8, 12], 'F': [5, 8]},\n",
    "    3: {'E': [6, 9], 'F': [9, 21], 'G': [0, 6]},\n",
    "}"
   ]
  },
  {
   "cell_type": "code",
   "execution_count": 44,
   "metadata": {
    "execution": {
     "iopub.execute_input": "2023-05-08T10:10:12.252231Z",
     "iopub.status.busy": "2023-05-08T10:10:12.251789Z",
     "iopub.status.idle": "2023-05-08T10:10:12.259908Z",
     "shell.execute_reply": "2023-05-08T10:10:12.258916Z"
    },
    "papermill": {
     "duration": 0.040303,
     "end_time": "2023-05-08T10:10:12.262274",
     "exception": false,
     "start_time": "2023-05-08T10:10:12.221971",
     "status": "completed"
    },
    "tags": []
   },
   "outputs": [],
   "source": [
    "def cabin_class(dataframe): #replace cabin letter NaNs based on Price_pp and Pclass\n",
    "    for i, row in dataframe.loc[dataframe['Cabin_ltr'].isna(), ['Pclass', 'Price_pp']].iterrows():\n",
    "        for a, b in class_price.items():\n",
    "            if row['Pclass'] == a:\n",
    "                for c, d in b.items():\n",
    "                    if max(d) > row['Price_pp'] >= min(d):\n",
    "                        dataframe.loc[i, 'Cabin_ltr'] = c\n",
    "                        \n",
    "    deck_level = {'G': 1, 'F': 2, 'E': 3, 'D': 4, 'C': 5, 'B': 6, 'A': 7, 'T' : 7} #create a map for the letters. T only has one passenger and the Price values are similar to A so they will be aggregated.\n",
    "\n",
    "    dataframe['Cabin_ltr'] = dataframe['Cabin_ltr'].replace(deck_level)"
   ]
  },
  {
   "cell_type": "code",
   "execution_count": 45,
   "metadata": {
    "execution": {
     "iopub.execute_input": "2023-05-08T10:10:12.322267Z",
     "iopub.status.busy": "2023-05-08T10:10:12.321832Z",
     "iopub.status.idle": "2023-05-08T10:10:12.727139Z",
     "shell.execute_reply": "2023-05-08T10:10:12.725867Z"
    },
    "papermill": {
     "duration": 0.439137,
     "end_time": "2023-05-08T10:10:12.730574",
     "exception": false,
     "start_time": "2023-05-08T10:10:12.291437",
     "status": "completed"
    },
    "tags": []
   },
   "outputs": [],
   "source": [
    "cabin_class(df)"
   ]
  },
  {
   "cell_type": "code",
   "execution_count": 46,
   "metadata": {
    "execution": {
     "iopub.execute_input": "2023-05-08T10:10:12.788277Z",
     "iopub.status.busy": "2023-05-08T10:10:12.787894Z",
     "iopub.status.idle": "2023-05-08T10:10:12.795824Z",
     "shell.execute_reply": "2023-05-08T10:10:12.794586Z"
    },
    "papermill": {
     "duration": 0.039894,
     "end_time": "2023-05-08T10:10:12.798319",
     "exception": false,
     "start_time": "2023-05-08T10:10:12.758425",
     "status": "completed"
    },
    "tags": []
   },
   "outputs": [
    {
     "data": {
      "text/plain": [
       "0"
      ]
     },
     "execution_count": 46,
     "metadata": {},
     "output_type": "execute_result"
    }
   ],
   "source": [
    "df['Cabin_ltr'].isna().sum()"
   ]
  },
  {
   "cell_type": "code",
   "execution_count": 47,
   "metadata": {
    "execution": {
     "iopub.execute_input": "2023-05-08T10:10:12.984256Z",
     "iopub.status.busy": "2023-05-08T10:10:12.983762Z",
     "iopub.status.idle": "2023-05-08T10:10:12.995108Z",
     "shell.execute_reply": "2023-05-08T10:10:12.992843Z"
    },
    "papermill": {
     "duration": 0.046818,
     "end_time": "2023-05-08T10:10:12.998558",
     "exception": false,
     "start_time": "2023-05-08T10:10:12.951740",
     "status": "completed"
    },
    "tags": []
   },
   "outputs": [],
   "source": [
    "for i, a in enumerate(df['Age']):\n",
    "    if pd.isna(a):\n",
    "        df.loc[i, 'Age'] = df[df['Title'] == df.loc[i, 'Title']]['Age'].median()"
   ]
  },
  {
   "cell_type": "code",
   "execution_count": 48,
   "metadata": {
    "execution": {
     "iopub.execute_input": "2023-05-08T10:10:13.059877Z",
     "iopub.status.busy": "2023-05-08T10:10:13.059437Z",
     "iopub.status.idle": "2023-05-08T10:10:13.068659Z",
     "shell.execute_reply": "2023-05-08T10:10:13.067390Z"
    },
    "papermill": {
     "duration": 0.042225,
     "end_time": "2023-05-08T10:10:13.071284",
     "exception": false,
     "start_time": "2023-05-08T10:10:13.029059",
     "status": "completed"
    },
    "tags": []
   },
   "outputs": [
    {
     "data": {
      "text/plain": [
       "0"
      ]
     },
     "execution_count": 48,
     "metadata": {},
     "output_type": "execute_result"
    }
   ],
   "source": [
    "df['Age'].isna().sum()"
   ]
  },
  {
   "cell_type": "code",
   "execution_count": 49,
   "metadata": {
    "execution": {
     "iopub.execute_input": "2023-05-08T10:10:13.132902Z",
     "iopub.status.busy": "2023-05-08T10:10:13.132476Z",
     "iopub.status.idle": "2023-05-08T10:10:13.432259Z",
     "shell.execute_reply": "2023-05-08T10:10:13.430688Z"
    },
    "papermill": {
     "duration": 0.334259,
     "end_time": "2023-05-08T10:10:13.435196",
     "exception": false,
     "start_time": "2023-05-08T10:10:13.100937",
     "status": "completed"
    },
    "tags": []
   },
   "outputs": [
    {
     "name": "stdout",
     "output_type": "stream",
     "text": [
      "80.0\n",
      "0.42\n"
     ]
    },
    {
     "data": {
      "image/png": "[encoded data removed]",
      "text/plain": [
       "<Figure size 640x480 with 1 Axes>"
      ]
     },
     "metadata": {},
     "output_type": "display_data"
    }
   ],
   "source": [
    "train_data['Age'].hist()\n",
    "print(train_data['Age'].max())\n",
    "print(train_data['Age'].min())"
   ]
  },
  {
   "cell_type": "code",
   "execution_count": 50,
   "metadata": {
    "execution": {
     "iopub.execute_input": "2023-05-08T10:10:13.671731Z",
     "iopub.status.busy": "2023-05-08T10:10:13.671307Z",
     "iopub.status.idle": "2023-05-08T10:10:13.681666Z",
     "shell.execute_reply": "2023-05-08T10:10:13.680712Z"
    },
    "papermill": {
     "duration": 0.043133,
     "end_time": "2023-05-08T10:10:13.684127",
     "exception": false,
     "start_time": "2023-05-08T10:10:13.640994",
     "status": "completed"
    },
    "tags": []
   },
   "outputs": [],
   "source": [
    "y = train_data['Survived']\n",
    "X = df[:train_max].copy()\n",
    "test_df = df[train_max:].copy()\n",
    "full_df = pd.concat([X, y], axis=1).copy() #join x_train values with Survived column for graph plotting."
   ]
  },
  {
   "cell_type": "code",
   "execution_count": 51,
   "metadata": {
    "execution": {
     "iopub.execute_input": "2023-05-08T10:10:13.745641Z",
     "iopub.status.busy": "2023-05-08T10:10:13.744594Z",
     "iopub.status.idle": "2023-05-08T10:10:14.072542Z",
     "shell.execute_reply": "2023-05-08T10:10:14.071263Z"
    },
    "papermill": {
     "duration": 0.361278,
     "end_time": "2023-05-08T10:10:14.075440",
     "exception": false,
     "start_time": "2023-05-08T10:10:13.714162",
     "status": "completed"
    },
    "tags": []
   },
   "outputs": [
    {
     "data": {
      "image/png": "[encoded data removed]",
      "text/plain": [
       "<Figure size 1100x600 with 1 Axes>"
      ]
     },
     "metadata": {},
     "output_type": "display_data"
    }
   ],
   "source": [
    "plt.figure(figsize=(11, 6))\n",
    "full_df[full_df['Survived'] == 0]['Age'].plot(kind='kde', label = 'Not survived')\n",
    "full_df[full_df['Survived'] == 1]['Age'].plot(kind='kde', label = 'Survived')\n",
    "plt.legend()\n",
    "plt.grid()\n",
    "plt.xlabel('Age')\n",
    "plt.xlim(0, 90)\n",
    "plt.xticks(np.arange(0, 90, 5))\n",
    "plt.show()"
   ]
  },
  {
   "cell_type": "code",
   "execution_count": 52,
   "metadata": {
    "execution": {
     "iopub.execute_input": "2023-05-08T10:10:14.197453Z",
     "iopub.status.busy": "2023-05-08T10:10:14.197056Z",
     "iopub.status.idle": "2023-05-08T10:10:14.520072Z",
     "shell.execute_reply": "2023-05-08T10:10:14.518860Z"
    },
    "papermill": {
     "duration": 0.357168,
     "end_time": "2023-05-08T10:10:14.522959",
     "exception": false,
     "start_time": "2023-05-08T10:10:14.165791",
     "status": "completed"
    },
    "tags": []
   },
   "outputs": [
    {
     "name": "stderr",
     "output_type": "stream",
     "text": [
      "/opt/conda/lib/python3.7/site-packages/pandas/core/indexing.py:1732: SettingWithCopyWarning: \n",
      "A value is trying to be set on a copy of a slice from a DataFrame\n",
      "\n",
      "See the caveats in the documentation: https://pandas.pydata.org/pandas-docs/stable/user_guide/indexing.html#returning-a-view-versus-a-copy\n",
      "  self._setitem_single_block(indexer, value, name)\n"
     ]
    }
   ],
   "source": [
    "age_df = train_data['Age']\n",
    "for i, a in enumerate(train_data['Age']):\n",
    "    if a <= 17:\n",
    "        age_df.loc[i] = 4\n",
    "    elif a > 17 and a <= 35:\n",
    "        age_df.loc[i] = 2\n",
    "    elif a > 35 and a <= 57:\n",
    "        age_df.loc[i] = 3\n",
    "    else:\n",
    "        age_df.loc[i] = 1"
   ]
  },
  {
   "cell_type": "code",
   "execution_count": 53,
   "metadata": {
    "execution": {
     "iopub.execute_input": "2023-05-08T10:10:14.584184Z",
     "iopub.status.busy": "2023-05-08T10:10:14.583760Z",
     "iopub.status.idle": "2023-05-08T10:10:14.590146Z",
     "shell.execute_reply": "2023-05-08T10:10:14.588902Z"
    },
    "papermill": {
     "duration": 0.040541,
     "end_time": "2023-05-08T10:10:14.593122",
     "exception": false,
     "start_time": "2023-05-08T10:10:14.552581",
     "status": "completed"
    },
    "tags": []
   },
   "outputs": [],
   "source": [
    "df['Age_group'] = age_df"
   ]
  },
  {
   "cell_type": "code",
   "execution_count": 54,
   "metadata": {
    "execution": {
     "iopub.execute_input": "2023-05-08T10:10:14.717571Z",
     "iopub.status.busy": "2023-05-08T10:10:14.717167Z",
     "iopub.status.idle": "2023-05-08T10:10:14.725578Z",
     "shell.execute_reply": "2023-05-08T10:10:14.724625Z"
    },
    "papermill": {
     "duration": 0.043597,
     "end_time": "2023-05-08T10:10:14.728107",
     "exception": false,
     "start_time": "2023-05-08T10:10:14.684510",
     "status": "completed"
    },
    "tags": []
   },
   "outputs": [],
   "source": [
    "df['single_vs_family'] = df['SibSp'] + df['Parch'] + 1\n",
    "full_df['single_vs_family'] = df['SibSp'] + df['Parch'] + 1"
   ]
  },
  {
   "cell_type": "code",
   "execution_count": 55,
   "metadata": {
    "execution": {
     "iopub.execute_input": "2023-05-08T10:10:14.790595Z",
     "iopub.status.busy": "2023-05-08T10:10:14.790132Z",
     "iopub.status.idle": "2023-05-08T10:10:14.799545Z",
     "shell.execute_reply": "2023-05-08T10:10:14.798288Z"
    },
    "papermill": {
     "duration": 0.043325,
     "end_time": "2023-05-08T10:10:14.802053",
     "exception": false,
     "start_time": "2023-05-08T10:10:14.758728",
     "status": "completed"
    },
    "tags": []
   },
   "outputs": [
    {
     "data": {
      "text/plain": [
       "1     790\n",
       "2     235\n",
       "3     159\n",
       "4      43\n",
       "6      25\n",
       "5      22\n",
       "7      16\n",
       "11     11\n",
       "8       8\n",
       "Name: single_vs_family, dtype: int64"
      ]
     },
     "execution_count": 55,
     "metadata": {},
     "output_type": "execute_result"
    }
   ],
   "source": [
    "df['single_vs_family'].value_counts() #family sizes"
   ]
  },
  {
   "cell_type": "code",
   "execution_count": 56,
   "metadata": {
    "execution": {
     "iopub.execute_input": "2023-05-08T10:10:14.864767Z",
     "iopub.status.busy": "2023-05-08T10:10:14.864327Z",
     "iopub.status.idle": "2023-05-08T10:10:15.328402Z",
     "shell.execute_reply": "2023-05-08T10:10:15.327077Z"
    },
    "papermill": {
     "duration": 0.498612,
     "end_time": "2023-05-08T10:10:15.331266",
     "exception": false,
     "start_time": "2023-05-08T10:10:14.832654",
     "status": "completed"
    },
    "tags": []
   },
   "outputs": [
    {
     "data": {
      "image/png": "[encoded data removed]",
      "text/plain": [
       "<Figure size 640x480 with 1 Axes>"
      ]
     },
     "metadata": {},
     "output_type": "display_data"
    }
   ],
   "source": [
    "sns.barplot(x='single_vs_family', y='Survived', data=full_df)\n",
    "plt.show()"
   ]
  },
  {
   "cell_type": "code",
   "execution_count": 57,
   "metadata": {
    "execution": {
     "iopub.execute_input": "2023-05-08T10:10:15.399757Z",
     "iopub.status.busy": "2023-05-08T10:10:15.399300Z",
     "iopub.status.idle": "2023-05-08T10:10:15.680097Z",
     "shell.execute_reply": "2023-05-08T10:10:15.678760Z"
    },
    "papermill": {
     "duration": 0.318321,
     "end_time": "2023-05-08T10:10:15.682933",
     "exception": false,
     "start_time": "2023-05-08T10:10:15.364612",
     "status": "completed"
    },
    "tags": []
   },
   "outputs": [
    {
     "data": {
      "image/png": "[encoded data removed]",
      "text/plain": [
       "<Figure size 1100x600 with 1 Axes>"
      ]
     },
     "metadata": {},
     "output_type": "display_data"
    }
   ],
   "source": [
    "plt.figure(figsize=(11, 6))\n",
    "full_df[full_df['Survived'] == 0]['single_vs_family'].plot(kind='kde', label = 'Not survived')\n",
    "full_df[full_df['Survived'] == 1]['single_vs_family'].plot(kind='kde', label = 'Survived')\n",
    "plt.legend()\n",
    "plt.grid()\n",
    "plt.xlabel('single_vs_family')\n",
    "plt.xlim(0, 10)\n",
    "plt.show()"
   ]
  },
  {
   "cell_type": "code",
   "execution_count": 58,
   "metadata": {
    "execution": {
     "iopub.execute_input": "2023-05-08T10:10:15.748535Z",
     "iopub.status.busy": "2023-05-08T10:10:15.747732Z",
     "iopub.status.idle": "2023-05-08T10:10:15.758331Z",
     "shell.execute_reply": "2023-05-08T10:10:15.756902Z"
    },
    "papermill": {
     "duration": 0.047254,
     "end_time": "2023-05-08T10:10:15.761423",
     "exception": false,
     "start_time": "2023-05-08T10:10:15.714169",
     "status": "completed"
    },
    "tags": []
   },
   "outputs": [],
   "source": [
    "df['Sf_group'] = pd.cut(x=df.single_vs_family, labels=[1, 3, 2], \n",
    "                            bins=[-1, 1.8, 4, df.single_vs_family.max()]).astype('float') "
   ]
  },
  {
   "cell_type": "code",
   "execution_count": 59,
   "metadata": {
    "execution": {
     "iopub.execute_input": "2023-05-08T10:10:15.893597Z",
     "iopub.status.busy": "2023-05-08T10:10:15.893185Z",
     "iopub.status.idle": "2023-05-08T10:10:15.905472Z",
     "shell.execute_reply": "2023-05-08T10:10:15.904254Z"
    },
    "papermill": {
     "duration": 0.048267,
     "end_time": "2023-05-08T10:10:15.908235",
     "exception": false,
     "start_time": "2023-05-08T10:10:15.859968",
     "status": "completed"
    },
    "tags": []
   },
   "outputs": [],
   "source": [
    "family_survivers = full_df[['Surname', 'Survived']].groupby('Surname').mean().round(2).reset_index() "
   ]
  },
  {
   "cell_type": "code",
   "execution_count": 60,
   "metadata": {
    "execution": {
     "iopub.execute_input": "2023-05-08T10:10:15.973174Z",
     "iopub.status.busy": "2023-05-08T10:10:15.972700Z",
     "iopub.status.idle": "2023-05-08T10:10:15.991440Z",
     "shell.execute_reply": "2023-05-08T10:10:15.989978Z"
    },
    "papermill": {
     "duration": 0.055185,
     "end_time": "2023-05-08T10:10:15.993951",
     "exception": false,
     "start_time": "2023-05-08T10:10:15.938766",
     "status": "completed"
    },
    "tags": []
   },
   "outputs": [
    {
     "data": {
      "text/html": [
       "<div>\n",
       "<style scoped>\n",
       "    .dataframe tbody tr th:only-of-type {\n",
       "        vertical-align: middle;\n",
       "    }\n",
       "\n",
       "    .dataframe tbody tr th {\n",
       "        vertical-align: top;\n",
       "    }\n",
       "\n",
       "    .dataframe thead th {\n",
       "        text-align: right;\n",
       "    }\n",
       "</style>\n",
       "<table border=\"1\" class=\"dataframe\">\n",
       "  <thead>\n",
       "    <tr style=\"text-align: right;\">\n",
       "      <th></th>\n",
       "      <th></th>\n",
       "    </tr>\n",
       "    <tr>\n",
       "      <th>Surname</th>\n",
       "      <th>Survived</th>\n",
       "    </tr>\n",
       "  </thead>\n",
       "  <tbody>\n",
       "    <tr>\n",
       "      <th>Lehmann</th>\n",
       "      <th>1.0</th>\n",
       "    </tr>\n",
       "    <tr>\n",
       "      <th>Glynn</th>\n",
       "      <th>1.0</th>\n",
       "    </tr>\n",
       "    <tr>\n",
       "      <th>Hedman</th>\n",
       "      <th>1.0</th>\n",
       "    </tr>\n",
       "    <tr>\n",
       "      <th>Healy</th>\n",
       "      <th>1.0</th>\n",
       "    </tr>\n",
       "    <tr>\n",
       "      <th>Hays</th>\n",
       "      <th>1.0</th>\n",
       "    </tr>\n",
       "    <tr>\n",
       "      <th>Hawksford</th>\n",
       "      <th>1.0</th>\n",
       "    </tr>\n",
       "    <tr>\n",
       "      <th>Hassab</th>\n",
       "      <th>1.0</th>\n",
       "    </tr>\n",
       "    <tr>\n",
       "      <th>Ryerson</th>\n",
       "      <th>1.0</th>\n",
       "    </tr>\n",
       "    <tr>\n",
       "      <th>Saalfeld</th>\n",
       "      <th>1.0</th>\n",
       "    </tr>\n",
       "    <tr>\n",
       "      <th>Harder</th>\n",
       "      <th>1.0</th>\n",
       "    </tr>\n",
       "  </tbody>\n",
       "</table>\n",
       "</div>"
      ],
      "text/plain": [
       "Empty DataFrame\n",
       "Columns: []\n",
       "Index: [(Lehmann, 1.0), (Glynn, 1.0), (Hedman, 1.0), (Healy, 1.0), (Hays, 1.0), (Hawksford, 1.0), (Hassab, 1.0), (Ryerson, 1.0), (Saalfeld, 1.0), (Harder, 1.0)]"
      ]
     },
     "execution_count": 60,
     "metadata": {},
     "output_type": "execute_result"
    }
   ],
   "source": [
    "family_survivers.groupby(['Surname', 'Survived']).mean().sort_values('Survived', ascending=False)[:10]"
   ]
  },
  {
   "cell_type": "code",
   "execution_count": 61,
   "metadata": {
    "execution": {
     "iopub.execute_input": "2023-05-08T10:10:16.060893Z",
     "iopub.status.busy": "2023-05-08T10:10:16.060449Z",
     "iopub.status.idle": "2023-05-08T10:10:16.143630Z",
     "shell.execute_reply": "2023-05-08T10:10:16.142531Z"
    },
    "papermill": {
     "duration": 0.119453,
     "end_time": "2023-05-08T10:10:16.146536",
     "exception": false,
     "start_time": "2023-05-08T10:10:16.027083",
     "status": "completed"
    },
    "tags": []
   },
   "outputs": [],
   "source": [
    "family_survivers_dict = dict(zip(family_survivers.Surname, family_survivers.Survived)) \n",
    "common_survivers = {}\n",
    "for surname, survived in family_survivers_dict.items():\n",
    "    if surname in list(test_df['Surname'].unique()):\n",
    "        common_survivers[surname] = survived\n",
    "\n",
    "df['Family_survivers'] = df.Surname.map(common_survivers)\n",
    "df.Family_survivers = df.Family_survivers.fillna(df.Family_survivers.mean())"
   ]
  },
  {
   "cell_type": "code",
   "execution_count": 62,
   "metadata": {
    "execution": {
     "iopub.execute_input": "2023-05-08T10:10:16.213563Z",
     "iopub.status.busy": "2023-05-08T10:10:16.213122Z",
     "iopub.status.idle": "2023-05-08T10:10:16.220743Z",
     "shell.execute_reply": "2023-05-08T10:10:16.219545Z"
    },
    "papermill": {
     "duration": 0.044491,
     "end_time": "2023-05-08T10:10:16.223213",
     "exception": false,
     "start_time": "2023-05-08T10:10:16.178722",
     "status": "completed"
    },
    "tags": []
   },
   "outputs": [],
   "source": [
    " full_df['Family_survivers'] = df['Family_survivers']"
   ]
  },
  {
   "cell_type": "code",
   "execution_count": 63,
   "metadata": {
    "execution": {
     "iopub.execute_input": "2023-05-08T10:10:16.289734Z",
     "iopub.status.busy": "2023-05-08T10:10:16.289020Z",
     "iopub.status.idle": "2023-05-08T10:10:16.562904Z",
     "shell.execute_reply": "2023-05-08T10:10:16.561486Z"
    },
    "papermill": {
     "duration": 0.309899,
     "end_time": "2023-05-08T10:10:16.565514",
     "exception": false,
     "start_time": "2023-05-08T10:10:16.255615",
     "status": "completed"
    },
    "tags": []
   },
   "outputs": [
    {
     "data": {
      "image/png": "[encoded data removed]",
      "text/plain": [
       "<Figure size 1100x600 with 1 Axes>"
      ]
     },
     "metadata": {},
     "output_type": "display_data"
    }
   ],
   "source": [
    "plt.figure(figsize=(11, 6))\n",
    "full_df[full_df['Survived'] == 0]['Family_survivers'].plot(kind='kde', label = 'Not survived')\n",
    "full_df[full_df['Survived'] == 1]['Family_survivers'].plot(kind='kde', label = 'Survived')\n",
    "plt.legend()\n",
    "plt.grid()\n",
    "plt.xlabel('Surname')\n",
    "plt.xlim(0, 1)\n",
    "# plt.xticks(np.arange(0, 90, 5))\n",
    "plt.show()"
   ]
  },
  {
   "cell_type": "code",
   "execution_count": 64,
   "metadata": {
    "execution": {
     "iopub.execute_input": "2023-05-08T10:10:16.638007Z",
     "iopub.status.busy": "2023-05-08T10:10:16.637570Z",
     "iopub.status.idle": "2023-05-08T10:10:16.648296Z",
     "shell.execute_reply": "2023-05-08T10:10:16.646643Z"
    },
    "papermill": {
     "duration": 0.056518,
     "end_time": "2023-05-08T10:10:16.654695",
     "exception": false,
     "start_time": "2023-05-08T10:10:16.598177",
     "status": "completed"
    },
    "tags": []
   },
   "outputs": [],
   "source": [
    "df['Lucky_family'] = pd.cut(x=full_df.Family_survivers, labels=[2, 3, 1, 4],\n",
    "                            bins=[-1, 0.22, 0.35, 0.49, full_df.Family_survivers.max()]).astype('float')"
   ]
  },
  {
   "cell_type": "code",
   "execution_count": 65,
   "metadata": {
    "execution": {
     "iopub.execute_input": "2023-05-08T10:10:16.807970Z",
     "iopub.status.busy": "2023-05-08T10:10:16.807159Z",
     "iopub.status.idle": "2023-05-08T10:10:17.232286Z",
     "shell.execute_reply": "2023-05-08T10:10:17.231258Z"
    },
    "papermill": {
     "duration": 0.472299,
     "end_time": "2023-05-08T10:10:17.235296",
     "exception": false,
     "start_time": "2023-05-08T10:10:16.762997",
     "status": "completed"
    },
    "tags": []
   },
   "outputs": [
    {
     "data": {
      "image/png": "[encoded data removed]",
      "text/plain": [
       "<Figure size 640x480 with 1 Axes>"
      ]
     },
     "metadata": {},
     "output_type": "display_data"
    }
   ],
   "source": [
    "sns.barplot(x='Cabin_ltr', y='Survived', data=full_df)\n",
    "plt.show()"
   ]
  },
  {
   "cell_type": "code",
   "execution_count": 66,
   "metadata": {
    "execution": {
     "iopub.execute_input": "2023-05-08T10:10:17.310415Z",
     "iopub.status.busy": "2023-05-08T10:10:17.309395Z",
     "iopub.status.idle": "2023-05-08T10:10:17.615934Z",
     "shell.execute_reply": "2023-05-08T10:10:17.614914Z"
    },
    "papermill": {
     "duration": 0.346025,
     "end_time": "2023-05-08T10:10:17.620314",
     "exception": false,
     "start_time": "2023-05-08T10:10:17.274289",
     "status": "completed"
    },
    "tags": []
   },
   "outputs": [
    {
     "data": {
      "image/png": "[encoded data removed]",
      "text/plain": [
       "<Figure size 1100x600 with 1 Axes>"
      ]
     },
     "metadata": {},
     "output_type": "display_data"
    }
   ],
   "source": [
    "plt.figure(figsize=(11, 6))\n",
    "full_df[full_df['Survived'] == 0]['Cabin_ltr'].plot(kind='kde', label = 'Not survived')\n",
    "full_df[full_df['Survived'] == 1]['Cabin_ltr'].plot(kind='kde', label = 'Survived')\n",
    "plt.legend()\n",
    "plt.grid()\n",
    "plt.xlabel('Cabin_ltr')\n",
    "plt.xlim(0, 8)\n",
    "# plt.xticks(np.arange(0, 90, 5))\n",
    "plt.show()"
   ]
  },
  {
   "cell_type": "code",
   "execution_count": 67,
   "metadata": {
    "execution": {
     "iopub.execute_input": "2023-05-08T10:10:17.695852Z",
     "iopub.status.busy": "2023-05-08T10:10:17.695102Z",
     "iopub.status.idle": "2023-05-08T10:10:17.704184Z",
     "shell.execute_reply": "2023-05-08T10:10:17.702929Z"
    },
    "papermill": {
     "duration": 0.048797,
     "end_time": "2023-05-08T10:10:17.707233",
     "exception": false,
     "start_time": "2023-05-08T10:10:17.658436",
     "status": "completed"
    },
    "tags": []
   },
   "outputs": [],
   "source": [
    "df['Cabin_survival'] = pd.cut(x=full_df.Cabin_ltr, labels=[2, 3, 1, 4],\n",
    "                            bins=[0.4, 1.5, 2.4, 3.5, full_df.Cabin_ltr.max()]).astype('float')"
   ]
  },
  {
   "cell_type": "code",
   "execution_count": 68,
   "metadata": {
    "execution": {
     "iopub.execute_input": "2023-05-08T10:10:17.843561Z",
     "iopub.status.busy": "2023-05-08T10:10:17.843118Z",
     "iopub.status.idle": "2023-05-08T10:10:17.849241Z",
     "shell.execute_reply": "2023-05-08T10:10:17.848165Z"
    },
    "papermill": {
     "duration": 0.043062,
     "end_time": "2023-05-08T10:10:17.851692",
     "exception": false,
     "start_time": "2023-05-08T10:10:17.808630",
     "status": "completed"
    },
    "tags": []
   },
   "outputs": [],
   "source": [
    "df.Price_pp = df.Price_pp.apply(np.log1p) #normalise price"
   ]
  },
  {
   "cell_type": "code",
   "execution_count": 69,
   "metadata": {
    "execution": {
     "iopub.execute_input": "2023-05-08T10:10:17.988492Z",
     "iopub.status.busy": "2023-05-08T10:10:17.987341Z",
     "iopub.status.idle": "2023-05-08T10:10:17.997634Z",
     "shell.execute_reply": "2023-05-08T10:10:17.996233Z"
    },
    "papermill": {
     "duration": 0.04761,
     "end_time": "2023-05-08T10:10:18.000379",
     "exception": false,
     "start_time": "2023-05-08T10:10:17.952769",
     "status": "completed"
    },
    "tags": []
   },
   "outputs": [
    {
     "data": {
      "text/plain": [
       "Pclass                int64\n",
       "Name                 object\n",
       "Sex                  object\n",
       "Age                 float64\n",
       "SibSp                 int64\n",
       "Parch                 int64\n",
       "Ticket               object\n",
       "Fare                float64\n",
       "Cabin                object\n",
       "Embarked             object\n",
       "Title                object\n",
       "Surname              object\n",
       "Status               object\n",
       "Ticket_ref           object\n",
       "Ticket_number        object\n",
       "Same_ticket           int64\n",
       "Price_pp            float64\n",
       "Cabin_ltr             int64\n",
       "Age_group           float64\n",
       "single_vs_family      int64\n",
       "Sf_group            float64\n",
       "Family_survivers    float64\n",
       "Lucky_family        float64\n",
       "Cabin_survival      float64\n",
       "dtype: object"
      ]
     },
     "execution_count": 69,
     "metadata": {},
     "output_type": "execute_result"
    }
   ],
   "source": [
    "df.dtypes"
   ]
  },
  {
   "cell_type": "code",
   "execution_count": 70,
   "metadata": {
    "execution": {
     "iopub.execute_input": "2023-05-08T10:10:18.072721Z",
     "iopub.status.busy": "2023-05-08T10:10:18.071919Z",
     "iopub.status.idle": "2023-05-08T10:10:18.078669Z",
     "shell.execute_reply": "2023-05-08T10:10:18.077234Z"
    },
    "papermill": {
     "duration": 0.045995,
     "end_time": "2023-05-08T10:10:18.081187",
     "exception": false,
     "start_time": "2023-05-08T10:10:18.035192",
     "status": "completed"
    },
    "tags": []
   },
   "outputs": [],
   "source": [
    "df['Pclass'] = df['Pclass'].astype(object) #Pclass should be object instead of int64"
   ]
  },
  {
   "cell_type": "code",
   "execution_count": 71,
   "metadata": {
    "execution": {
     "iopub.execute_input": "2023-05-08T10:10:18.154854Z",
     "iopub.status.busy": "2023-05-08T10:10:18.154068Z",
     "iopub.status.idle": "2023-05-08T10:10:18.778737Z",
     "shell.execute_reply": "2023-05-08T10:10:18.777201Z"
    },
    "papermill": {
     "duration": 0.667016,
     "end_time": "2023-05-08T10:10:18.783150",
     "exception": false,
     "start_time": "2023-05-08T10:10:18.116134",
     "status": "completed"
    },
    "tags": []
   },
   "outputs": [],
   "source": [
    "from sklearn.experimental import enable_iterative_imputer\n",
    "from sklearn.impute import IterativeImputer\n",
    "\n",
    "numericals = list(df.select_dtypes([np.number]).columns)\n",
    "itimp = IterativeImputer()\n",
    "num_var = pd.DataFrame(itimp.fit_transform(df[numericals]), #clear all remaining NaNs.\n",
    "                      columns=df[numericals].columns)"
   ]
  },
  {
   "cell_type": "code",
   "execution_count": 72,
   "metadata": {
    "execution": {
     "iopub.execute_input": "2023-05-08T10:10:18.901668Z",
     "iopub.status.busy": "2023-05-08T10:10:18.901244Z",
     "iopub.status.idle": "2023-05-08T10:10:18.909285Z",
     "shell.execute_reply": "2023-05-08T10:10:18.908304Z"
    },
    "papermill": {
     "duration": 0.067998,
     "end_time": "2023-05-08T10:10:18.911886",
     "exception": false,
     "start_time": "2023-05-08T10:10:18.843888",
     "status": "completed"
    },
    "tags": []
   },
   "outputs": [],
   "source": [
    "cat_var = pd.DataFrame(df[['Pclass', 'Sex', 'Embarked', 'Title', 'Status']]) #categorical variables\n",
    "to_drop = pd.DataFrame(df[['Family_survivers']]) #variables to drop"
   ]
  },
  {
   "cell_type": "code",
   "execution_count": 73,
   "metadata": {
    "execution": {
     "iopub.execute_input": "2023-05-08T10:10:18.981924Z",
     "iopub.status.busy": "2023-05-08T10:10:18.981447Z",
     "iopub.status.idle": "2023-05-08T10:10:18.994705Z",
     "shell.execute_reply": "2023-05-08T10:10:18.993722Z"
    },
    "papermill": {
     "duration": 0.051611,
     "end_time": "2023-05-08T10:10:18.997445",
     "exception": false,
     "start_time": "2023-05-08T10:10:18.945834",
     "status": "completed"
    },
    "tags": []
   },
   "outputs": [],
   "source": [
    "cat_var = pd.get_dummies(cat_var) #create dummies for categoricals"
   ]
  },
  {
   "cell_type": "code",
   "execution_count": 74,
   "metadata": {
    "execution": {
     "iopub.execute_input": "2023-05-08T10:10:19.070298Z",
     "iopub.status.busy": "2023-05-08T10:10:19.069468Z",
     "iopub.status.idle": "2023-05-08T10:10:19.077417Z",
     "shell.execute_reply": "2023-05-08T10:10:19.075896Z"
    },
    "papermill": {
     "duration": 0.047766,
     "end_time": "2023-05-08T10:10:19.080159",
     "exception": false,
     "start_time": "2023-05-08T10:10:19.032393",
     "status": "completed"
    },
    "tags": []
   },
   "outputs": [],
   "source": [
    "df = pd.concat([cat_var, num_var], axis=1)\n",
    "df = df.drop(to_drop, axis=1) #drop variables not needed"
   ]
  },
  {
   "cell_type": "code",
   "execution_count": 75,
   "metadata": {
    "execution": {
     "iopub.execute_input": "2023-05-08T10:10:19.150824Z",
     "iopub.status.busy": "2023-05-08T10:10:19.150345Z",
     "iopub.status.idle": "2023-05-08T10:10:19.156938Z",
     "shell.execute_reply": "2023-05-08T10:10:19.155545Z"
    },
    "papermill": {
     "duration": 0.044997,
     "end_time": "2023-05-08T10:10:19.159678",
     "exception": false,
     "start_time": "2023-05-08T10:10:19.114681",
     "status": "completed"
    },
    "tags": []
   },
   "outputs": [],
   "source": [
    "X_train = df[:train_max].copy() #create train and test datasets for modeling\n",
    "X_test = df[train_max:].copy()"
   ]
  },
  {
   "cell_type": "code",
   "execution_count": 76,
   "metadata": {
    "execution": {
     "iopub.execute_input": "2023-05-08T10:10:19.231528Z",
     "iopub.status.busy": "2023-05-08T10:10:19.231090Z",
     "iopub.status.idle": "2023-05-08T10:10:19.236389Z",
     "shell.execute_reply": "2023-05-08T10:10:19.235216Z"
    },
    "papermill": {
     "duration": 0.044425,
     "end_time": "2023-05-08T10:10:19.238955",
     "exception": false,
     "start_time": "2023-05-08T10:10:19.194530",
     "status": "completed"
    },
    "tags": []
   },
   "outputs": [],
   "source": [
    "y_train = train_data['Survived'] #target"
   ]
  },
  {
   "cell_type": "code",
   "execution_count": 77,
   "metadata": {
    "execution": {
     "iopub.execute_input": "2023-05-08T10:10:19.313008Z",
     "iopub.status.busy": "2023-05-08T10:10:19.311590Z",
     "iopub.status.idle": "2023-05-08T10:10:19.323852Z",
     "shell.execute_reply": "2023-05-08T10:10:19.322442Z"
    },
    "papermill": {
     "duration": 0.05285,
     "end_time": "2023-05-08T10:10:19.326832",
     "exception": false,
     "start_time": "2023-05-08T10:10:19.273982",
     "status": "completed"
    },
    "tags": []
   },
   "outputs": [
    {
     "data": {
      "text/plain": [
       "Pclass_1            0\n",
       "Pclass_2            0\n",
       "Pclass_3            0\n",
       "Sex_female          0\n",
       "Sex_male            0\n",
       "Embarked_C          0\n",
       "Embarked_Q          0\n",
       "Embarked_S          0\n",
       "Title_Master        0\n",
       "Title_Miss          0\n",
       "Title_Mr            0\n",
       "Title_Mrs           0\n",
       "Title_Ms            0\n",
       "Status_Father       0\n",
       "Status_Man          0\n",
       "Status_Mother       0\n",
       "Status_Woman        0\n",
       "Age                 0\n",
       "SibSp               0\n",
       "Parch               0\n",
       "Fare                0\n",
       "Same_ticket         0\n",
       "Price_pp            0\n",
       "Cabin_ltr           0\n",
       "Age_group           0\n",
       "single_vs_family    0\n",
       "Sf_group            0\n",
       "Lucky_family        0\n",
       "Cabin_survival      0\n",
       "dtype: int64"
      ]
     },
     "execution_count": 77,
     "metadata": {},
     "output_type": "execute_result"
    }
   ],
   "source": [
    "X_test.head()\n",
    "X_test.isna().sum()"
   ]
  },
  {
   "cell_type": "code",
   "execution_count": 78,
   "metadata": {
    "execution": {
     "iopub.execute_input": "2023-05-08T10:10:19.401013Z",
     "iopub.status.busy": "2023-05-08T10:10:19.399840Z",
     "iopub.status.idle": "2023-05-08T10:10:19.411915Z",
     "shell.execute_reply": "2023-05-08T10:10:19.410792Z"
    },
    "papermill": {
     "duration": 0.052715,
     "end_time": "2023-05-08T10:10:19.414975",
     "exception": false,
     "start_time": "2023-05-08T10:10:19.362260",
     "status": "completed"
    },
    "tags": []
   },
   "outputs": [
    {
     "data": {
      "text/plain": [
       "Pclass_1            0\n",
       "Pclass_2            0\n",
       "Pclass_3            0\n",
       "Sex_female          0\n",
       "Sex_male            0\n",
       "Embarked_C          0\n",
       "Embarked_Q          0\n",
       "Embarked_S          0\n",
       "Title_Master        0\n",
       "Title_Miss          0\n",
       "Title_Mr            0\n",
       "Title_Mrs           0\n",
       "Title_Ms            0\n",
       "Status_Father       0\n",
       "Status_Man          0\n",
       "Status_Mother       0\n",
       "Status_Woman        0\n",
       "Age                 0\n",
       "SibSp               0\n",
       "Parch               0\n",
       "Fare                0\n",
       "Same_ticket         0\n",
       "Price_pp            0\n",
       "Cabin_ltr           0\n",
       "Age_group           0\n",
       "single_vs_family    0\n",
       "Sf_group            0\n",
       "Lucky_family        0\n",
       "Cabin_survival      0\n",
       "dtype: int64"
      ]
     },
     "execution_count": 78,
     "metadata": {},
     "output_type": "execute_result"
    }
   ],
   "source": [
    "X_train.isna().sum()"
   ]
  },
  {
   "cell_type": "code",
   "execution_count": 79,
   "metadata": {
    "execution": {
     "iopub.execute_input": "2023-05-08T10:10:19.558370Z",
     "iopub.status.busy": "2023-05-08T10:10:19.557050Z",
     "iopub.status.idle": "2023-05-08T10:10:19.762982Z",
     "shell.execute_reply": "2023-05-08T10:10:19.761556Z"
    },
    "papermill": {
     "duration": 0.246526,
     "end_time": "2023-05-08T10:10:19.766538",
     "exception": false,
     "start_time": "2023-05-08T10:10:19.520012",
     "status": "completed"
    },
    "tags": []
   },
   "outputs": [],
   "source": [
    "from sklearn.preprocessing import StandardScaler, MinMaxScaler, MaxAbsScaler, RobustScaler, Normalizer\n",
    "\n",
    "from sklearn.neighbors import KNeighborsClassifier\n",
    "from sklearn.tree import DecisionTreeClassifier\n",
    "from sklearn.ensemble import RandomForestClassifier\n",
    "from sklearn.naive_bayes import GaussianNB\n",
    "from sklearn.svm import SVC\n",
    "\n",
    "from sklearn.model_selection import KFold\n",
    "from sklearn.model_selection import cross_val_score\n",
    "from sklearn.ensemble import GradientBoostingClassifier\n",
    "\n",
    "k_fold = KFold(n_splits = 9, shuffle=True, random_state = 0)"
   ]
  },
  {
   "cell_type": "code",
   "execution_count": 80,
   "metadata": {
    "execution": {
     "iopub.execute_input": "2023-05-08T10:10:19.841031Z",
     "iopub.status.busy": "2023-05-08T10:10:19.840108Z",
     "iopub.status.idle": "2023-05-08T10:10:29.087310Z",
     "shell.execute_reply": "2023-05-08T10:10:29.086008Z"
    },
    "papermill": {
     "duration": 9.288304,
     "end_time": "2023-05-08T10:10:29.090593",
     "exception": false,
     "start_time": "2023-05-08T10:10:19.802289",
     "status": "completed"
    },
    "tags": []
   },
   "outputs": [],
   "source": [
    "ssc = StandardScaler()\n",
    "mms = MinMaxScaler()\n",
    "mas = MaxAbsScaler()\n",
    "rsc = RobustScaler()\n",
    "\n",
    "scl_list = [ssc,mms,mas,rsc]\n",
    "\n",
    "knn = KNeighborsClassifier(n_neighbors = 13)\n",
    "dtc = DecisionTreeClassifier()\n",
    "rfc = RandomForestClassifier(n_estimators=13)\n",
    "gnb = GaussianNB()\n",
    "svc = SVC()\n",
    "gbc = GradientBoostingClassifier()\n",
    "clf_list = [knn,dtc,rfc,gnb,svc,gbc]\n",
    "\n",
    "score_list = []\n",
    "score_name = []\n",
    "\n",
    "for scl in scl_list:\n",
    "    scl.fit(X_train)\n",
    "    X_train = scl.transform(X_train)\n",
    "    X_test = scl.transform(X_test)\n",
    "    for clf in clf_list:\n",
    "        scoring = \"accuracy\"\n",
    "        score = cross_val_score(clf, X_train, y_train, cv=k_fold, n_jobs=1, scoring = scoring)\n",
    "        score_name.append(str(scl)+\":\"+str(clf))\n",
    "        score = round(np.mean(score)*100,2)\n",
    "        score_list.append(score)   "
   ]
  },
  {
   "cell_type": "code",
   "execution_count": 81,
   "metadata": {
    "execution": {
     "iopub.execute_input": "2023-05-08T10:10:29.163438Z",
     "iopub.status.busy": "2023-05-08T10:10:29.162617Z",
     "iopub.status.idle": "2023-05-08T10:10:29.169390Z",
     "shell.execute_reply": "2023-05-08T10:10:29.168042Z"
    },
    "papermill": {
     "duration": 0.045929,
     "end_time": "2023-05-08T10:10:29.171642",
     "exception": false,
     "start_time": "2023-05-08T10:10:29.125713",
     "status": "completed"
    },
    "tags": []
   },
   "outputs": [
    {
     "name": "stdout",
     "output_type": "stream",
     "text": [
      "4 82.6\n",
      "5 85.07\n",
      "10 82.94\n",
      "11 85.07\n",
      "16 82.94\n",
      "17 85.07\n",
      "22 82.49\n",
      "23 85.07\n"
     ]
    }
   ],
   "source": [
    "for index, score in enumerate(score_list):\n",
    "    if score > 82:\n",
    "        print(index, score)"
   ]
  },
  {
   "cell_type": "code",
   "execution_count": 82,
   "metadata": {
    "execution": {
     "iopub.execute_input": "2023-05-08T10:10:29.243709Z",
     "iopub.status.busy": "2023-05-08T10:10:29.242627Z",
     "iopub.status.idle": "2023-05-08T10:10:29.249580Z",
     "shell.execute_reply": "2023-05-08T10:10:29.248629Z"
    },
    "papermill": {
     "duration": 0.045624,
     "end_time": "2023-05-08T10:10:29.251753",
     "exception": false,
     "start_time": "2023-05-08T10:10:29.206129",
     "status": "completed"
    },
    "tags": []
   },
   "outputs": [
    {
     "data": {
      "text/plain": [
       "'MinMaxScaler():RandomForestClassifier(n_estimators=13)'"
      ]
     },
     "execution_count": 82,
     "metadata": {},
     "output_type": "execute_result"
    }
   ],
   "source": [
    "score_name[8]"
   ]
  },
  {
   "cell_type": "code",
   "execution_count": 83,
   "metadata": {
    "execution": {
     "iopub.execute_input": "2023-05-08T10:10:29.394940Z",
     "iopub.status.busy": "2023-05-08T10:10:29.393720Z",
     "iopub.status.idle": "2023-05-08T10:10:37.314057Z",
     "shell.execute_reply": "2023-05-08T10:10:37.312570Z"
    },
    "papermill": {
     "duration": 7.959591,
     "end_time": "2023-05-08T10:10:37.316888",
     "exception": false,
     "start_time": "2023-05-08T10:10:29.357297",
     "status": "completed"
    },
    "tags": []
   },
   "outputs": [
    {
     "name": "stdout",
     "output_type": "stream",
     "text": [
      "Fitting 3 folds for each of 3 candidates, totalling 9 fits\n",
      "0.8720538720538721\n",
      "{'criterion': 'gini', 'max_depth': 6, 'max_features': 'log2', 'n_estimators': 400}\n"
     ]
    }
   ],
   "source": [
    "scl = MinMaxScaler()\n",
    "scl.fit(X_train)\n",
    "scl.transform(X_train)\n",
    "scl.transform(X_test)\n",
    "\n",
    "from sklearn.model_selection import GridSearchCV\n",
    "from sklearn.model_selection import StratifiedKFold\n",
    "cv = StratifiedKFold(n_splits=3)\n",
    "rfc = RandomForestClassifier()\n",
    "\n",
    "parameters = { \n",
    "    'n_estimators': [400, 450, 500],\n",
    "    'max_features': ['log2'],\n",
    "    'max_depth' : [6],\n",
    "    'criterion' :['gini']\n",
    "}\n",
    "\n",
    "gs = GridSearchCV(rfc, scoring='accuracy', param_grid = parameters, cv=cv, verbose=1)\n",
    "gs.fit(X_train, y_train)\n",
    "print(gs.score(X_train, y_train))\n",
    "params = gs.best_params_\n",
    "print(params)"
   ]
  },
  {
   "cell_type": "code",
   "execution_count": 84,
   "metadata": {
    "execution": {
     "iopub.execute_input": "2023-05-08T10:10:37.387551Z",
     "iopub.status.busy": "2023-05-08T10:10:37.386765Z",
     "iopub.status.idle": "2023-05-08T10:10:38.083865Z",
     "shell.execute_reply": "2023-05-08T10:10:38.082624Z"
    },
    "papermill": {
     "duration": 0.735832,
     "end_time": "2023-05-08T10:10:38.086618",
     "exception": false,
     "start_time": "2023-05-08T10:10:37.350786",
     "status": "completed"
    },
    "tags": []
   },
   "outputs": [
    {
     "data": {
      "text/plain": [
       "RandomForestClassifier(max_depth=6, max_features='log2', n_estimators=400)"
      ]
     },
     "execution_count": 84,
     "metadata": {},
     "output_type": "execute_result"
    }
   ],
   "source": [
    "model = RandomForestClassifier(**params)\n",
    "model.fit(X_train, y_train)"
   ]
  },
  {
   "cell_type": "code",
   "execution_count": 85,
   "metadata": {
    "execution": {
     "iopub.execute_input": "2023-05-08T10:10:38.158169Z",
     "iopub.status.busy": "2023-05-08T10:10:38.157662Z",
     "iopub.status.idle": "2023-05-08T10:10:38.224646Z",
     "shell.execute_reply": "2023-05-08T10:10:38.223296Z"
    },
    "papermill": {
     "duration": 0.105632,
     "end_time": "2023-05-08T10:10:38.227484",
     "exception": false,
     "start_time": "2023-05-08T10:10:38.121852",
     "status": "completed"
    },
    "tags": []
   },
   "outputs": [],
   "source": [
    "predictions = model.predict(X_test)\n",
    "output = pd.DataFrame({'PassengerId': test_drop_id, 'Survived': predictions})"
   ]
  },
  {
   "cell_type": "code",
   "execution_count": 86,
   "metadata": {
    "execution": {
     "iopub.execute_input": "2023-05-08T10:10:38.299484Z",
     "iopub.status.busy": "2023-05-08T10:10:38.299083Z",
     "iopub.status.idle": "2023-05-08T10:10:38.311626Z",
     "shell.execute_reply": "2023-05-08T10:10:38.310127Z"
    },
    "papermill": {
     "duration": 0.051965,
     "end_time": "2023-05-08T10:10:38.314437",
     "exception": false,
     "start_time": "2023-05-08T10:10:38.262472",
     "status": "completed"
    },
    "tags": []
   },
   "outputs": [
    {
     "name": "stdout",
     "output_type": "stream",
     "text": [
      "Your submission was successfully saved!\n"
     ]
    }
   ],
   "source": [
    "output.to_csv('submission.csv', index=False)\n",
    "print(\"Your submission was successfully saved!\")"
   ]
  },
  {
   "cell_type": "code",
   "execution_count": null,
   "metadata": {
    "papermill": {
     "duration": 0.034423,
     "end_time": "2023-05-08T10:10:38.384167",
     "exception": false,
     "start_time": "2023-05-08T10:10:38.349744",
     "status": "completed"
    },
    "tags": []
   },
   "outputs": [],
   "source": []
  }
 ],
 "metadata": {
  "kernelspec": {
   "display_name": "Python 3",
   "language": "python",
   "name": "python3"
  },
  "language_info": {
   "codemirror_mode": {
    "name": "ipython",
    "version": 3
   },
   "file_extension": ".py",
   "mimetype": "text/x-python",
   "name": "python",
   "nbconvert_exporter": "python",
   "pygments_lexer": "ipython3",
   "version": "3.8.3"
  },
  "papermill": {
   "default_parameters": {},
   "duration": 45.62345,
   "end_time": "2023-05-08T10:10:39.242879",
   "environment_variables": {},
   "exception": null,
   "input_path": "__notebook__.ipynb",
   "output_path": "__notebook__.ipynb",
   "parameters": {},
   "start_time": "2023-05-08T10:09:53.619429",
   "version": "2.4.0"
  }
 },
 "nbformat": 4,
 "nbformat_minor": 5
}
